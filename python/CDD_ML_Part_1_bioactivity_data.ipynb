{
  "nbformat": 4,
  "nbformat_minor": 0,
  "metadata": {
    "colab": {
      "name": "CDD-ML-Part-1-bioactivity-data.ipynb",
      "provenance": [],
      "collapsed_sections": [],
      "include_colab_link": true
    },
    "kernelspec": {
      "name": "python3",
      "display_name": "Python 3"
    }
  },
  "cells": [
    {
      "cell_type": "markdown",
      "metadata": {
        "id": "view-in-github",
        "colab_type": "text"
      },
      "source": [
        "<a href=\"https://colab.research.google.com/github/Abaysew/Abaysew/blob/main/python/CDD_ML_Part_1_bioactivity_data.ipynb\" target=\"_parent\"><img src=\"https://colab.research.google.com/assets/colab-badge.svg\" alt=\"Open In Colab\"/></a>"
      ]
    },
    {
      "cell_type": "markdown",
      "metadata": {
        "id": "wSFbIMb87cHu"
      },
      "source": [
        "# **Computational Drug Discovery [Part 1] Download Bioactivity Data**\n",
        "\n",
        "Chanin Nantasenamat\n",
        "\n",
        "[*'Data Professor' YouTube channel*](http://youtube.com/dataprofessor)\n",
        "\n",
        "In this Jupyter notebook, we will be building a real-life **data science project** that you can include in your **data science portfolio**. Particularly, we will be building a machine learning model using the ChEMBL bioactivity data.\n",
        "\n",
        "---"
      ]
    },
    {
      "cell_type": "markdown",
      "metadata": {
        "id": "3iQiERxumDor"
      },
      "source": [
        "## **ChEMBL Database**\n",
        "\n",
        "The [*ChEMBL Database*](https://www.ebi.ac.uk/chembl/) is a database that contains curated bioactivity data of more than 2 million compounds. It is compiled from more than 76,000 documents, 1.2 million assays and the data spans 13,000 targets and 1,800 cells and 33,000 indications.\n",
        "[Data as of March 25, 2020; ChEMBL version 26]."
      ]
    },
    {
      "cell_type": "markdown",
      "metadata": {
        "id": "iryGAwAIQ4yf"
      },
      "source": [
        "## **Installing libraries**"
      ]
    },
    {
      "cell_type": "markdown",
      "metadata": {
        "id": "toGT1U_B7F2i"
      },
      "source": [
        "Install the ChEMBL web service package so that we can retrieve bioactivity data from the ChEMBL Database."
      ]
    },
    {
      "cell_type": "code",
      "metadata": {
        "id": "cJGExHQBfLh7",
        "outputId": "208bf832-f6b3-4bbb-ae38-b85bd81585e0",
        "colab": {
          "base_uri": "https://localhost:8080/"
        }
      },
      "source": [
        "! pip install chembl_webresource_client"
      ],
      "execution_count": 1,
      "outputs": [
        {
          "output_type": "stream",
          "name": "stdout",
          "text": [
            "Collecting chembl_webresource_client\n",
            "  Downloading chembl_webresource_client-0.10.7-py3-none-any.whl (55 kB)\n",
            "\u001b[?25l\r\u001b[K     |██████                          | 10 kB 17.6 MB/s eta 0:00:01\r\u001b[K     |███████████▉                    | 20 kB 22.9 MB/s eta 0:00:01\r\u001b[K     |█████████████████▊              | 30 kB 22.6 MB/s eta 0:00:01\r\u001b[K     |███████████████████████▋        | 40 kB 13.1 MB/s eta 0:00:01\r\u001b[K     |█████████████████████████████▌  | 51 kB 4.8 MB/s eta 0:00:01\r\u001b[K     |████████████████████████████████| 55 kB 2.0 MB/s \n",
            "\u001b[?25hRequirement already satisfied: urllib3 in /usr/local/lib/python3.7/dist-packages (from chembl_webresource_client) (1.24.3)\n",
            "Requirement already satisfied: requests>=2.18.4 in /usr/local/lib/python3.7/dist-packages (from chembl_webresource_client) (2.23.0)\n",
            "Requirement already satisfied: easydict in /usr/local/lib/python3.7/dist-packages (from chembl_webresource_client) (1.9)\n",
            "Collecting requests-cache~=0.7.0\n",
            "  Downloading requests_cache-0.7.5-py3-none-any.whl (39 kB)\n",
            "Requirement already satisfied: idna<3,>=2.5 in /usr/local/lib/python3.7/dist-packages (from requests>=2.18.4->chembl_webresource_client) (2.10)\n",
            "Requirement already satisfied: certifi>=2017.4.17 in /usr/local/lib/python3.7/dist-packages (from requests>=2.18.4->chembl_webresource_client) (2021.10.8)\n",
            "Requirement already satisfied: chardet<4,>=3.0.2 in /usr/local/lib/python3.7/dist-packages (from requests>=2.18.4->chembl_webresource_client) (3.0.4)\n",
            "Requirement already satisfied: attrs<22.0,>=21.2 in /usr/local/lib/python3.7/dist-packages (from requests-cache~=0.7.0->chembl_webresource_client) (21.2.0)\n",
            "Collecting pyyaml>=5.4\n",
            "  Downloading PyYAML-6.0-cp37-cp37m-manylinux_2_5_x86_64.manylinux1_x86_64.manylinux_2_12_x86_64.manylinux2010_x86_64.whl (596 kB)\n",
            "\u001b[K     |████████████████████████████████| 596 kB 14.5 MB/s \n",
            "\u001b[?25hCollecting url-normalize<2.0,>=1.4\n",
            "  Downloading url_normalize-1.4.3-py2.py3-none-any.whl (6.8 kB)\n",
            "Collecting itsdangerous>=2.0.1\n",
            "  Downloading itsdangerous-2.0.1-py3-none-any.whl (18 kB)\n",
            "Requirement already satisfied: six in /usr/local/lib/python3.7/dist-packages (from url-normalize<2.0,>=1.4->requests-cache~=0.7.0->chembl_webresource_client) (1.15.0)\n",
            "Installing collected packages: url-normalize, pyyaml, itsdangerous, requests-cache, chembl-webresource-client\n",
            "  Attempting uninstall: pyyaml\n",
            "    Found existing installation: PyYAML 3.13\n",
            "    Uninstalling PyYAML-3.13:\n",
            "      Successfully uninstalled PyYAML-3.13\n",
            "  Attempting uninstall: itsdangerous\n",
            "    Found existing installation: itsdangerous 1.1.0\n",
            "    Uninstalling itsdangerous-1.1.0:\n",
            "      Successfully uninstalled itsdangerous-1.1.0\n",
            "\u001b[31mERROR: pip's dependency resolver does not currently take into account all the packages that are installed. This behaviour is the source of the following dependency conflicts.\n",
            "flask 1.1.4 requires itsdangerous<2.0,>=0.24, but you have itsdangerous 2.0.1 which is incompatible.\u001b[0m\n",
            "Successfully installed chembl-webresource-client-0.10.7 itsdangerous-2.0.1 pyyaml-6.0 requests-cache-0.7.5 url-normalize-1.4.3\n"
          ]
        }
      ]
    },
    {
      "cell_type": "markdown",
      "metadata": {
        "id": "J0kJjL8gb5nX"
      },
      "source": [
        "## **Importing libraries**"
      ]
    },
    {
      "cell_type": "code",
      "metadata": {
        "id": "RXoCvMPPfNrv"
      },
      "source": [
        "# Import necessary libraries\n",
        "import pandas as pd\n",
        "from chembl_webresource_client.new_client import new_client"
      ],
      "execution_count": 2,
      "outputs": []
    },
    {
      "cell_type": "markdown",
      "metadata": {
        "id": "1FgUai1bfigC"
      },
      "source": [
        "## **Search for Target protein**"
      ]
    },
    {
      "cell_type": "markdown",
      "metadata": {
        "id": "7lBsDrD0gAqH"
      },
      "source": [
        "### **Target search for coronavirus**"
      ]
    },
    {
      "cell_type": "markdown",
      "metadata": {
        "id": "Y5OPfEALjAfZ"
      },
      "source": [
        "### **Select and retrieve bioactivity data for *SARS coronavirus 3C-like proteinase* (fifth entry)**"
      ]
    },
    {
      "cell_type": "code",
      "metadata": {
        "id": "Vxtp79so4ZjF",
        "outputId": "dbd9fc63-da2b-4c1b-ab66-25e688ac968f",
        "colab": {
          "base_uri": "https://localhost:8080/",
          "height": 687
        }
      },
      "source": [
        "# Target search for Mycobacterium tuberculosis\n",
        "target = new_client.target\n",
        "target_query = target.search('Mycobacterium tuberculosis')\n",
        "targets = pd.DataFrame.from_dict(target_query)\n",
        "targets"
      ],
      "execution_count": 3,
      "outputs": [
        {
          "output_type": "execute_result",
          "data": {
            "text/html": [
              "<div>\n",
              "<style scoped>\n",
              "    .dataframe tbody tr th:only-of-type {\n",
              "        vertical-align: middle;\n",
              "    }\n",
              "\n",
              "    .dataframe tbody tr th {\n",
              "        vertical-align: top;\n",
              "    }\n",
              "\n",
              "    .dataframe thead th {\n",
              "        text-align: right;\n",
              "    }\n",
              "</style>\n",
              "<table border=\"1\" class=\"dataframe\">\n",
              "  <thead>\n",
              "    <tr style=\"text-align: right;\">\n",
              "      <th></th>\n",
              "      <th>cross_references</th>\n",
              "      <th>organism</th>\n",
              "      <th>pref_name</th>\n",
              "      <th>score</th>\n",
              "      <th>species_group_flag</th>\n",
              "      <th>target_chembl_id</th>\n",
              "      <th>target_components</th>\n",
              "      <th>target_type</th>\n",
              "      <th>tax_id</th>\n",
              "    </tr>\n",
              "  </thead>\n",
              "  <tbody>\n",
              "    <tr>\n",
              "      <th>0</th>\n",
              "      <td>[]</td>\n",
              "      <td>Mycobacterium tuberculosis</td>\n",
              "      <td>Mycobacterium tuberculosis</td>\n",
              "      <td>27.0</td>\n",
              "      <td>False</td>\n",
              "      <td>CHEMBL360</td>\n",
              "      <td>[]</td>\n",
              "      <td>ORGANISM</td>\n",
              "      <td>1773</td>\n",
              "    </tr>\n",
              "    <tr>\n",
              "      <th>1</th>\n",
              "      <td>[]</td>\n",
              "      <td>Mycobacterium tuberculosis H37Rv</td>\n",
              "      <td>Mycobacterium tuberculosis H37Rv</td>\n",
              "      <td>24.0</td>\n",
              "      <td>False</td>\n",
              "      <td>CHEMBL2111188</td>\n",
              "      <td>[]</td>\n",
              "      <td>ORGANISM</td>\n",
              "      <td>83332</td>\n",
              "    </tr>\n",
              "    <tr>\n",
              "      <th>2</th>\n",
              "      <td>[]</td>\n",
              "      <td>Mycobacterium tuberculosis H37Ra</td>\n",
              "      <td>Mycobacterium tuberculosis H37Ra</td>\n",
              "      <td>24.0</td>\n",
              "      <td>False</td>\n",
              "      <td>CHEMBL2366634</td>\n",
              "      <td>[]</td>\n",
              "      <td>ORGANISM</td>\n",
              "      <td>419947</td>\n",
              "    </tr>\n",
              "    <tr>\n",
              "      <th>3</th>\n",
              "      <td>[]</td>\n",
              "      <td>Mycobacterium</td>\n",
              "      <td>Mycobacterium</td>\n",
              "      <td>13.0</td>\n",
              "      <td>True</td>\n",
              "      <td>CHEMBL614981</td>\n",
              "      <td>[]</td>\n",
              "      <td>ORGANISM</td>\n",
              "      <td>1763</td>\n",
              "    </tr>\n",
              "    <tr>\n",
              "      <th>4</th>\n",
              "      <td>[]</td>\n",
              "      <td>Mycobacterium tuberculosis</td>\n",
              "      <td>PYRAZINAMIDASE/NICOTINAMIDAS PNCA (PZase)</td>\n",
              "      <td>13.0</td>\n",
              "      <td>False</td>\n",
              "      <td>CHEMBL1697663</td>\n",
              "      <td>[{'accession': 'Q50575', 'component_descriptio...</td>\n",
              "      <td>SINGLE PROTEIN</td>\n",
              "      <td>1773</td>\n",
              "    </tr>\n",
              "    <tr>\n",
              "      <th>...</th>\n",
              "      <td>...</td>\n",
              "      <td>...</td>\n",
              "      <td>...</td>\n",
              "      <td>...</td>\n",
              "      <td>...</td>\n",
              "      <td>...</td>\n",
              "      <td>...</td>\n",
              "      <td>...</td>\n",
              "      <td>...</td>\n",
              "    </tr>\n",
              "    <tr>\n",
              "      <th>115</th>\n",
              "      <td>[]</td>\n",
              "      <td>Mycobacterium tuberculosis</td>\n",
              "      <td>Ribonucleoside-diphosphate reductase subunit a...</td>\n",
              "      <td>7.0</td>\n",
              "      <td>False</td>\n",
              "      <td>CHEMBL2346487</td>\n",
              "      <td>[{'accession': 'P9WH75', 'component_descriptio...</td>\n",
              "      <td>SINGLE PROTEIN</td>\n",
              "      <td>1773</td>\n",
              "    </tr>\n",
              "    <tr>\n",
              "      <th>116</th>\n",
              "      <td>[]</td>\n",
              "      <td>Mycobacterium tuberculosis</td>\n",
              "      <td>70S ribosome</td>\n",
              "      <td>7.0</td>\n",
              "      <td>False</td>\n",
              "      <td>CHEMBL2363965</td>\n",
              "      <td>[{'accession': 'P9WHE1', 'component_descriptio...</td>\n",
              "      <td>PROTEIN NUCLEIC-ACID COMPLEX</td>\n",
              "      <td>1773</td>\n",
              "    </tr>\n",
              "    <tr>\n",
              "      <th>117</th>\n",
              "      <td>[]</td>\n",
              "      <td>Mycobacterium tuberculosis</td>\n",
              "      <td>ATP synthase</td>\n",
              "      <td>7.0</td>\n",
              "      <td>False</td>\n",
              "      <td>CHEMBL2364166</td>\n",
              "      <td>[{'accession': 'P9WPU9', 'component_descriptio...</td>\n",
              "      <td>PROTEIN COMPLEX</td>\n",
              "      <td>1773</td>\n",
              "    </tr>\n",
              "    <tr>\n",
              "      <th>118</th>\n",
              "      <td>[]</td>\n",
              "      <td>Mycobacterium tuberculosis</td>\n",
              "      <td>Thioredoxin reductase</td>\n",
              "      <td>7.0</td>\n",
              "      <td>False</td>\n",
              "      <td>CHEMBL2390811</td>\n",
              "      <td>[{'accession': 'P9WHH1', 'component_descriptio...</td>\n",
              "      <td>SINGLE PROTEIN</td>\n",
              "      <td>1773</td>\n",
              "    </tr>\n",
              "    <tr>\n",
              "      <th>119</th>\n",
              "      <td>[]</td>\n",
              "      <td>Mycobacterium tuberculosis</td>\n",
              "      <td>ATP-dependent Clp protease ATP-binding subunit...</td>\n",
              "      <td>7.0</td>\n",
              "      <td>False</td>\n",
              "      <td>CHEMBL4630874</td>\n",
              "      <td>[{'accession': 'P9WPC9', 'component_descriptio...</td>\n",
              "      <td>SINGLE PROTEIN</td>\n",
              "      <td>1773</td>\n",
              "    </tr>\n",
              "  </tbody>\n",
              "</table>\n",
              "<p>120 rows × 9 columns</p>\n",
              "</div>"
            ],
            "text/plain": [
              "    cross_references  ...  tax_id\n",
              "0                 []  ...    1773\n",
              "1                 []  ...   83332\n",
              "2                 []  ...  419947\n",
              "3                 []  ...    1763\n",
              "4                 []  ...    1773\n",
              "..               ...  ...     ...\n",
              "115               []  ...    1773\n",
              "116               []  ...    1773\n",
              "117               []  ...    1773\n",
              "118               []  ...    1773\n",
              "119               []  ...    1773\n",
              "\n",
              "[120 rows x 9 columns]"
            ]
          },
          "metadata": {},
          "execution_count": 3
        }
      ]
    },
    {
      "cell_type": "markdown",
      "metadata": {
        "id": "gSQ3aroOgML7"
      },
      "source": [
        "We will assign the one handed eighteenth entry (which corresponds to the target protein, *ATP synthase*) to the ***selected_target*** variable "
      ]
    },
    {
      "cell_type": "code",
      "source": [
        ""
      ],
      "metadata": {
        "id": "zzm21WsKqm_e"
      },
      "execution_count": null,
      "outputs": []
    },
    {
      "cell_type": "code",
      "metadata": {
        "id": "StrcHMVLha7u",
        "outputId": "ed6cc51c-2b16-4047-c12b-b3046d7dfefd",
        "colab": {
          "base_uri": "https://localhost:8080/",
          "height": 35
        }
      },
      "source": [
        "selected_target = targets.target_chembl_id[117]\n",
        "selected_target"
      ],
      "execution_count": 4,
      "outputs": [
        {
          "output_type": "execute_result",
          "data": {
            "application/vnd.google.colaboratory.intrinsic+json": {
              "type": "string"
            },
            "text/plain": [
              "'CHEMBL2364166'"
            ]
          },
          "metadata": {},
          "execution_count": 4
        }
      ]
    },
    {
      "cell_type": "markdown",
      "metadata": {
        "id": "GWd2DRalgjzB"
      },
      "source": [
        "Here, we will retrieve only bioactivity data for *ATP synthase* (CHEMBL2364166) that are reported as IC$_{50}$ values in nM (nanomolar) unit."
      ]
    },
    {
      "cell_type": "code",
      "metadata": {
        "id": "LeFbV_CsSP8D"
      },
      "source": [
        "activity = new_client.activity\n",
        "res = activity.filter(target_chembl_id=selected_target).filter(standard_type=\"IC50\")"
      ],
      "execution_count": 5,
      "outputs": []
    },
    {
      "cell_type": "code",
      "metadata": {
        "id": "RC4T-NEmSWV-"
      },
      "source": [
        "df = pd.DataFrame.from_dict(res)"
      ],
      "execution_count": 6,
      "outputs": []
    },
    {
      "cell_type": "code",
      "metadata": {
        "id": "s9iUAXFdSkoM",
        "outputId": "bcd51ae2-554a-499e-db65-fa33f3bd0370",
        "colab": {
          "base_uri": "https://localhost:8080/",
          "height": 268
        }
      },
      "source": [
        "df.head(3)"
      ],
      "execution_count": 9,
      "outputs": [
        {
          "output_type": "execute_result",
          "data": {
            "text/html": [
              "<div>\n",
              "<style scoped>\n",
              "    .dataframe tbody tr th:only-of-type {\n",
              "        vertical-align: middle;\n",
              "    }\n",
              "\n",
              "    .dataframe tbody tr th {\n",
              "        vertical-align: top;\n",
              "    }\n",
              "\n",
              "    .dataframe thead th {\n",
              "        text-align: right;\n",
              "    }\n",
              "</style>\n",
              "<table border=\"1\" class=\"dataframe\">\n",
              "  <thead>\n",
              "    <tr style=\"text-align: right;\">\n",
              "      <th></th>\n",
              "      <th>activity_comment</th>\n",
              "      <th>activity_id</th>\n",
              "      <th>activity_properties</th>\n",
              "      <th>assay_chembl_id</th>\n",
              "      <th>assay_description</th>\n",
              "      <th>assay_type</th>\n",
              "      <th>assay_variant_accession</th>\n",
              "      <th>assay_variant_mutation</th>\n",
              "      <th>bao_endpoint</th>\n",
              "      <th>bao_format</th>\n",
              "      <th>bao_label</th>\n",
              "      <th>canonical_smiles</th>\n",
              "      <th>data_validity_comment</th>\n",
              "      <th>data_validity_description</th>\n",
              "      <th>document_chembl_id</th>\n",
              "      <th>document_journal</th>\n",
              "      <th>document_year</th>\n",
              "      <th>ligand_efficiency</th>\n",
              "      <th>molecule_chembl_id</th>\n",
              "      <th>molecule_pref_name</th>\n",
              "      <th>parent_molecule_chembl_id</th>\n",
              "      <th>pchembl_value</th>\n",
              "      <th>potential_duplicate</th>\n",
              "      <th>qudt_units</th>\n",
              "      <th>record_id</th>\n",
              "      <th>relation</th>\n",
              "      <th>src_id</th>\n",
              "      <th>standard_flag</th>\n",
              "      <th>standard_relation</th>\n",
              "      <th>standard_text_value</th>\n",
              "      <th>standard_type</th>\n",
              "      <th>standard_units</th>\n",
              "      <th>standard_upper_value</th>\n",
              "      <th>standard_value</th>\n",
              "      <th>target_chembl_id</th>\n",
              "      <th>target_organism</th>\n",
              "      <th>target_pref_name</th>\n",
              "      <th>target_tax_id</th>\n",
              "      <th>text_value</th>\n",
              "      <th>toid</th>\n",
              "      <th>type</th>\n",
              "      <th>units</th>\n",
              "      <th>uo_units</th>\n",
              "      <th>upper_value</th>\n",
              "      <th>value</th>\n",
              "    </tr>\n",
              "  </thead>\n",
              "  <tbody>\n",
              "    <tr>\n",
              "      <th>0</th>\n",
              "      <td>None</td>\n",
              "      <td>16438287</td>\n",
              "      <td>[]</td>\n",
              "      <td>CHEMBL3757365</td>\n",
              "      <td>Inhibition of Mycobacterium tuberculosis ATP s...</td>\n",
              "      <td>B</td>\n",
              "      <td>None</td>\n",
              "      <td>None</td>\n",
              "      <td>BAO_0000190</td>\n",
              "      <td>BAO_0000223</td>\n",
              "      <td>protein complex format</td>\n",
              "      <td>COc1nc2ccccc2cc1C(c1cc2ccccc2nc1OC)C(O)(CCN(C)...</td>\n",
              "      <td>None</td>\n",
              "      <td>None</td>\n",
              "      <td>CHEMBL3751774</td>\n",
              "      <td>MedChemComm</td>\n",
              "      <td>2015</td>\n",
              "      <td>{'bei': '14.09', 'le': '0.26', 'lle': '1.38', ...</td>\n",
              "      <td>CHEMBL3752792</td>\n",
              "      <td>None</td>\n",
              "      <td>CHEMBL3752792</td>\n",
              "      <td>7.16</td>\n",
              "      <td>False</td>\n",
              "      <td>http://www.openphacts.org/units/Nanomolar</td>\n",
              "      <td>2746818</td>\n",
              "      <td>=</td>\n",
              "      <td>1</td>\n",
              "      <td>True</td>\n",
              "      <td>=</td>\n",
              "      <td>None</td>\n",
              "      <td>IC50</td>\n",
              "      <td>nM</td>\n",
              "      <td>None</td>\n",
              "      <td>70.0</td>\n",
              "      <td>CHEMBL2364166</td>\n",
              "      <td>Mycobacterium tuberculosis</td>\n",
              "      <td>ATP synthase</td>\n",
              "      <td>1773</td>\n",
              "      <td>None</td>\n",
              "      <td>None</td>\n",
              "      <td>IC50</td>\n",
              "      <td>uM</td>\n",
              "      <td>UO_0000065</td>\n",
              "      <td>None</td>\n",
              "      <td>0.07</td>\n",
              "    </tr>\n",
              "    <tr>\n",
              "      <th>1</th>\n",
              "      <td>None</td>\n",
              "      <td>16438288</td>\n",
              "      <td>[]</td>\n",
              "      <td>CHEMBL3757365</td>\n",
              "      <td>Inhibition of Mycobacterium tuberculosis ATP s...</td>\n",
              "      <td>B</td>\n",
              "      <td>None</td>\n",
              "      <td>None</td>\n",
              "      <td>BAO_0000190</td>\n",
              "      <td>BAO_0000223</td>\n",
              "      <td>protein complex format</td>\n",
              "      <td>COc1nc2ccccc2cc1C(c1cc2ccccc2nc1OC)C(O)(CCN(C)...</td>\n",
              "      <td>None</td>\n",
              "      <td>None</td>\n",
              "      <td>CHEMBL3751774</td>\n",
              "      <td>MedChemComm</td>\n",
              "      <td>2015</td>\n",
              "      <td>{'bei': '12.45', 'le': '0.26', 'lle': '0.77', ...</td>\n",
              "      <td>CHEMBL3751877</td>\n",
              "      <td>None</td>\n",
              "      <td>CHEMBL3751877</td>\n",
              "      <td>7.30</td>\n",
              "      <td>False</td>\n",
              "      <td>http://www.openphacts.org/units/Nanomolar</td>\n",
              "      <td>2746819</td>\n",
              "      <td>=</td>\n",
              "      <td>1</td>\n",
              "      <td>True</td>\n",
              "      <td>=</td>\n",
              "      <td>None</td>\n",
              "      <td>IC50</td>\n",
              "      <td>nM</td>\n",
              "      <td>None</td>\n",
              "      <td>50.0</td>\n",
              "      <td>CHEMBL2364166</td>\n",
              "      <td>Mycobacterium tuberculosis</td>\n",
              "      <td>ATP synthase</td>\n",
              "      <td>1773</td>\n",
              "      <td>None</td>\n",
              "      <td>None</td>\n",
              "      <td>IC50</td>\n",
              "      <td>uM</td>\n",
              "      <td>UO_0000065</td>\n",
              "      <td>None</td>\n",
              "      <td>0.05</td>\n",
              "    </tr>\n",
              "    <tr>\n",
              "      <th>2</th>\n",
              "      <td>None</td>\n",
              "      <td>16438289</td>\n",
              "      <td>[]</td>\n",
              "      <td>CHEMBL3757365</td>\n",
              "      <td>Inhibition of Mycobacterium tuberculosis ATP s...</td>\n",
              "      <td>B</td>\n",
              "      <td>None</td>\n",
              "      <td>None</td>\n",
              "      <td>BAO_0000190</td>\n",
              "      <td>BAO_0000223</td>\n",
              "      <td>protein complex format</td>\n",
              "      <td>C=CCOc1nc2ccccc2cc1C(c1cc2ccccc2nc1OCC=C)C(O)(...</td>\n",
              "      <td>None</td>\n",
              "      <td>None</td>\n",
              "      <td>CHEMBL3751774</td>\n",
              "      <td>MedChemComm</td>\n",
              "      <td>2015</td>\n",
              "      <td>{'bei': '13.22', 'le': '0.24', 'lle': '0.52', ...</td>\n",
              "      <td>CHEMBL3754648</td>\n",
              "      <td>None</td>\n",
              "      <td>CHEMBL3754648</td>\n",
              "      <td>7.40</td>\n",
              "      <td>False</td>\n",
              "      <td>http://www.openphacts.org/units/Nanomolar</td>\n",
              "      <td>2746820</td>\n",
              "      <td>=</td>\n",
              "      <td>1</td>\n",
              "      <td>True</td>\n",
              "      <td>=</td>\n",
              "      <td>None</td>\n",
              "      <td>IC50</td>\n",
              "      <td>nM</td>\n",
              "      <td>None</td>\n",
              "      <td>40.0</td>\n",
              "      <td>CHEMBL2364166</td>\n",
              "      <td>Mycobacterium tuberculosis</td>\n",
              "      <td>ATP synthase</td>\n",
              "      <td>1773</td>\n",
              "      <td>None</td>\n",
              "      <td>None</td>\n",
              "      <td>IC50</td>\n",
              "      <td>uM</td>\n",
              "      <td>UO_0000065</td>\n",
              "      <td>None</td>\n",
              "      <td>0.04</td>\n",
              "    </tr>\n",
              "  </tbody>\n",
              "</table>\n",
              "</div>"
            ],
            "text/plain": [
              "  activity_comment  activity_id  ... upper_value value\n",
              "0             None     16438287  ...        None  0.07\n",
              "1             None     16438288  ...        None  0.05\n",
              "2             None     16438289  ...        None  0.04\n",
              "\n",
              "[3 rows x 45 columns]"
            ]
          },
          "metadata": {},
          "execution_count": 9
        }
      ]
    },
    {
      "cell_type": "code",
      "metadata": {
        "id": "oNtBv36dYhxy",
        "outputId": "46b0429a-cf12-49f2-dab0-f5ca89c0ebb1",
        "colab": {
          "base_uri": "https://localhost:8080/"
        }
      },
      "source": [
        "df.standard_type.unique()"
      ],
      "execution_count": 10,
      "outputs": [
        {
          "output_type": "execute_result",
          "data": {
            "text/plain": [
              "array(['IC50'], dtype=object)"
            ]
          },
          "metadata": {},
          "execution_count": 10
        }
      ]
    },
    {
      "cell_type": "markdown",
      "metadata": {
        "id": "fQ78N26Fg15T"
      },
      "source": [
        "Finally we will save the resulting bioactivity data to a CSV file **bioactivity_data.csv**."
      ]
    },
    {
      "cell_type": "code",
      "metadata": {
        "id": "ZvUUEIVxTOH1"
      },
      "source": [
        "df.to_csv('bioactivity_data.csv', index=False)"
      ],
      "execution_count": 11,
      "outputs": []
    },
    {
      "cell_type": "markdown",
      "metadata": {
        "id": "BOrSrTGjOWU7"
      },
      "source": [
        "## **Copying files to Google Drive**"
      ]
    },
    {
      "cell_type": "markdown",
      "metadata": {
        "id": "PRputWaI7ZW7"
      },
      "source": [
        "Firstly, we need to mount the Google Drive into Colab so that we can have access to our Google adrive from within Colab."
      ]
    },
    {
      "cell_type": "code",
      "metadata": {
        "id": "6RBX658q65A5",
        "outputId": "0b25b083-6b21-4def-f4d1-dbf7a3582370",
        "colab": {
          "base_uri": "https://localhost:8080/"
        }
      },
      "source": [
        "from google.colab import drive\n",
        "drive.mount('/content/gdrive/', force_remount=True)\n"
      ],
      "execution_count": 12,
      "outputs": [
        {
          "output_type": "stream",
          "name": "stdout",
          "text": [
            "Mounted at /content/gdrive/\n"
          ]
        }
      ]
    },
    {
      "cell_type": "markdown",
      "metadata": {
        "id": "CMlY0xudN1mL"
      },
      "source": [
        "Next, we create a **data** folder in our **Colab Notebooks** folder on Google Drive."
      ]
    },
    {
      "cell_type": "code",
      "source": [
        "ls \"/content/gdrive/My Drive/Colab Notebooks/\""
      ],
      "metadata": {
        "colab": {
          "base_uri": "https://localhost:8080/"
        },
        "id": "33HAsadGtzn9",
        "outputId": "acff9606-7c2b-4f34-e1b2-ab6715590a52"
      },
      "execution_count": 35,
      "outputs": [
        {
          "output_type": "stream",
          "name": "stdout",
          "text": [
            "'Copy of CDD-ML-Part-1-bioactivity-data (1).ipynb'\n",
            "'Copy of CDD-ML-Part-1-bioactivity-data (2).ipynb'\n",
            "'Copy of CDD-ML-Part-1-Bioactivity-Data-Concised.ipynb'\n",
            "'Copy of CDD-ML-Part-1-bioactivity-data.ipynb'\n",
            " data\n",
            " \u001b[0m\u001b[01;34mdata2\u001b[0m/\n",
            " \u001b[01;34mdata3\u001b[0m/\n",
            " \u001b[01;34mdata_my\u001b[0m/\n",
            " My-first-notebook.ipynb\n",
            " Untitled\n",
            " Untitled0.ipynb\n"
          ]
        }
      ]
    },
    {
      "cell_type": "code",
      "metadata": {
        "id": "tew-UtUWIS__",
        "colab": {
          "base_uri": "https://localhost:8080/"
        },
        "outputId": "8c84a5fc-e6a8-4a17-b10f-ec07004b0d94"
      },
      "source": [
        "! mkdir \"/content/gdrive/My Drive/Colab Notebooks/data_my\""
      ],
      "execution_count": 28,
      "outputs": [
        {
          "output_type": "stream",
          "name": "stdout",
          "text": [
            "mkdir: cannot create directory ‘/content/gdrive/My Drive/Colab Notebooks/data_my’: File exists\n"
          ]
        }
      ]
    },
    {
      "cell_type": "code",
      "metadata": {
        "id": "YDMBpK2XJ_rJ"
      },
      "source": [
        "! cp bioactivity_data.csv \"/content/gdrive/My Drive/Colab Notebooks/data_my\""
      ],
      "execution_count": 33,
      "outputs": []
    },
    {
      "cell_type": "code",
      "metadata": {
        "id": "iRIr1QiEJtuw",
        "outputId": "835fd288-33a3-47a6-afaa-15c5823705f0",
        "colab": {
          "base_uri": "https://localhost:8080/"
        }
      },
      "source": [
        "! ls -l \"/content/gdrive/My Drive/Colab Notebooks/data_my\""
      ],
      "execution_count": 34,
      "outputs": [
        {
          "output_type": "stream",
          "name": "stdout",
          "text": [
            "total 9\n",
            "-rw------- 1 root root 8722 Dec 13 07:59 bioactivity_data.csv\n"
          ]
        }
      ]
    },
    {
      "cell_type": "markdown",
      "metadata": {
        "id": "z9NwrYJni8CH"
      },
      "source": [
        "Let's see the CSV files that we have so far."
      ]
    },
    {
      "cell_type": "code",
      "metadata": {
        "id": "FO3cZC5vnCht",
        "outputId": "1579578a-890d-421b-8a8e-e159bb542f90",
        "colab": {
          "base_uri": "https://localhost:8080/"
        }
      },
      "source": [
        "! ls"
      ],
      "execution_count": 36,
      "outputs": [
        {
          "output_type": "stream",
          "name": "stdout",
          "text": [
            "bioactivity_data.csv  gdrive  sample_data\n"
          ]
        }
      ]
    },
    {
      "cell_type": "markdown",
      "metadata": {
        "id": "7UAasSu5jAeB"
      },
      "source": [
        "Taking a glimpse of the **bioactivity_data.csv** file that we've just created."
      ]
    },
    {
      "cell_type": "code",
      "metadata": {
        "id": "jwEJjx5b5gAn",
        "outputId": "e72985d9-82db-4d74-b121-23ff33549ce9",
        "colab": {
          "base_uri": "https://localhost:8080/"
        }
      },
      "source": [
        "! head bioactivity_data.csv"
      ],
      "execution_count": 37,
      "outputs": [
        {
          "output_type": "stream",
          "name": "stdout",
          "text": [
            "activity_comment,activity_id,activity_properties,assay_chembl_id,assay_description,assay_type,assay_variant_accession,assay_variant_mutation,bao_endpoint,bao_format,bao_label,canonical_smiles,data_validity_comment,data_validity_description,document_chembl_id,document_journal,document_year,ligand_efficiency,molecule_chembl_id,molecule_pref_name,parent_molecule_chembl_id,pchembl_value,potential_duplicate,qudt_units,record_id,relation,src_id,standard_flag,standard_relation,standard_text_value,standard_type,standard_units,standard_upper_value,standard_value,target_chembl_id,target_organism,target_pref_name,target_tax_id,text_value,toid,type,units,uo_units,upper_value,value\n",
            ",16438287,[],CHEMBL3757365,Inhibition of Mycobacterium tuberculosis ATP synthase,B,,,BAO_0000190,BAO_0000223,protein complex format,COc1nc2ccccc2cc1C(c1cc2ccccc2nc1OC)C(O)(CCN(C)C)c1ccccc1,,,CHEMBL3751774,MedChemComm,2015,\"{'bei': '14.09', 'le': '0.26', 'lle': '1.38', 'sei': '10.57'}\",CHEMBL3752792,,CHEMBL3752792,7.16,False,http://www.openphacts.org/units/Nanomolar,2746818,=,1,True,=,,IC50,nM,,70.0,CHEMBL2364166,Mycobacterium tuberculosis,ATP synthase,1773,,,IC50,uM,UO_0000065,,0.07\n",
            ",16438288,[],CHEMBL3757365,Inhibition of Mycobacterium tuberculosis ATP synthase,B,,,BAO_0000190,BAO_0000223,protein complex format,COc1nc2ccccc2cc1C(c1cc2ccccc2nc1OC)C(O)(CCN(C)C)c1cccc(Br)c1,,,CHEMBL3751774,MedChemComm,2015,\"{'bei': '12.45', 'le': '0.26', 'lle': '0.77', 'sei': '10.78'}\",CHEMBL3751877,,CHEMBL3751877,7.30,False,http://www.openphacts.org/units/Nanomolar,2746819,=,1,True,=,,IC50,nM,,50.0,CHEMBL2364166,Mycobacterium tuberculosis,ATP synthase,1773,,,IC50,uM,UO_0000065,,0.05\n",
            ",16438289,[],CHEMBL3757365,Inhibition of Mycobacterium tuberculosis ATP synthase,B,,,BAO_0000190,BAO_0000223,protein complex format,C=CCOc1nc2ccccc2cc1C(c1cc2ccccc2nc1OCC=C)C(O)(CCN(C)C)c1ccccc1,,,CHEMBL3751774,MedChemComm,2015,\"{'bei': '13.22', 'le': '0.24', 'lle': '0.52', 'sei': '10.93'}\",CHEMBL3754648,,CHEMBL3754648,7.40,False,http://www.openphacts.org/units/Nanomolar,2746820,=,1,True,=,,IC50,nM,,40.0,CHEMBL2364166,Mycobacterium tuberculosis,ATP synthase,1773,,,IC50,uM,UO_0000065,,0.04\n",
            ",16438290,[],CHEMBL3757365,Inhibition of Mycobacterium tuberculosis ATP synthase,B,,,BAO_0000190,BAO_0000223,protein complex format,C=CCOc1nc2ccccc2cc1C(c1cc2ccccc2nc1OCC=C)C(O)(CCN(C)C)c1cccc(Br)c1,,,CHEMBL3751774,MedChemComm,2015,\"{'bei': '11.78', 'le': '0.24', 'lle': '-0.13', 'sei': '11.11'}\",CHEMBL3752547,,CHEMBL3752547,7.52,False,http://www.openphacts.org/units/Nanomolar,2746821,=,1,True,=,,IC50,nM,,30.0,CHEMBL2364166,Mycobacterium tuberculosis,ATP synthase,1773,,,IC50,uM,UO_0000065,,0.03\n",
            ",16438291,[],CHEMBL3757365,Inhibition of Mycobacterium tuberculosis ATP synthase,B,,,BAO_0000190,BAO_0000223,protein complex format,C=CCOc1nc2ccccc2cc1C(c1cc2ccccc2nc1OCC=C)C(O)(CCN(C)C)c1ccc(Br)cc1,,,CHEMBL3751774,MedChemComm,2015,\"{'bei': '10.26', 'le': '0.21', 'lle': '-1.10', 'sei': '9.68'}\",CHEMBL3753673,,CHEMBL3753673,6.55,False,http://www.openphacts.org/units/Nanomolar,2746822,=,1,True,=,,IC50,nM,,280.0,CHEMBL2364166,Mycobacterium tuberculosis,ATP synthase,1773,,,IC50,uM,UO_0000065,,0.28\n",
            ",16438292,[],CHEMBL3757365,Inhibition of Mycobacterium tuberculosis ATP synthase,B,,,BAO_0000190,BAO_0000223,protein complex format,C=CCCOc1nc2ccccc2cc1C(c1cc2ccccc2nc1OCCC=C)C(O)(CCN(C)C)c1ccc(Br)cc1,,,CHEMBL3751774,MedChemComm,2015,\"{'bei': '10.65', 'le': '0.22', 'lle': '-1.33', 'sei': '10.48'}\",CHEMBL3751865,,CHEMBL3751865,7.10,False,http://www.openphacts.org/units/Nanomolar,2746823,=,1,True,=,,IC50,nM,,80.0,CHEMBL2364166,Mycobacterium tuberculosis,ATP synthase,1773,,,IC50,uM,UO_0000065,,0.08\n",
            ",16438293,[],CHEMBL3757365,Inhibition of Mycobacterium tuberculosis ATP synthase,B,,,BAO_0000190,BAO_0000223,protein complex format,COc1nc2ccccc2cc1C(c1cc2ccccc2nc1OC)C(O)(CCN(C)C)c1ccc2ccccc2c1,,,CHEMBL3751774,MedChemComm,2015,\"{'bei': '13.49', 'le': '0.24', 'lle': '0.60', 'sei': '11.11'}\",CHEMBL3753028,,CHEMBL3753028,7.52,False,http://www.openphacts.org/units/Nanomolar,2746824,=,1,True,=,,IC50,nM,,30.0,CHEMBL2364166,Mycobacterium tuberculosis,ATP synthase,1773,,,IC50,uM,UO_0000065,,0.03\n",
            ",16438294,[],CHEMBL3757365,Inhibition of Mycobacterium tuberculosis ATP synthase,B,,,BAO_0000190,BAO_0000223,protein complex format,COc1nc2ccccc2cc1C(c1cc2ccccc2nc1OC)C(O)(CCN(C)C)c1ccc(Br)cc1,,,CHEMBL3751774,MedChemComm,2015,\"{'bei': '13.64', 'le': '0.28', 'lle': '1.47', 'sei': '11.82'}\",CHEMBL3754231,,CHEMBL3754231,8.00,False,http://www.openphacts.org/units/Nanomolar,2746825,=,1,True,=,,IC50,nM,,10.0,CHEMBL2364166,Mycobacterium tuberculosis,ATP synthase,1773,,,IC50,uM,UO_0000065,,0.01\n",
            ",16438295,[],CHEMBL3757365,Inhibition of Mycobacterium tuberculosis ATP synthase,B,,,BAO_0000190,BAO_0000223,protein complex format,COc1nc2ccccc2cc1C(c1cc2ccccc2nc1OC)C(O)(CCN(C)C)c1cccc2ccccc12,,,CHEMBL3751774,MedChemComm,2015,\"{'bei': '16.14', 'le': '0.29', 'lle': '2.08', 'sei': '13.29'}\",CHEMBL3754673,,CHEMBL3754673,9.00,False,http://www.openphacts.org/units/Nanomolar,2746826,=,1,True,=,,IC50,nM,,1.0,CHEMBL2364166,Mycobacterium tuberculosis,ATP synthase,1773,,,IC50,uM,UO_0000065,,0.001\n"
          ]
        }
      ]
    },
    {
      "cell_type": "markdown",
      "metadata": {
        "id": "_GXMpFNUOn_8"
      },
      "source": [
        "## **Handling missing data**\n",
        "If any compounds has missing value for the **standard_value** column then drop it"
      ]
    },
    {
      "cell_type": "code",
      "metadata": {
        "id": "hkVOdk6ZR396",
        "outputId": "fffbc6c1-fbe2-4284-932d-057848399e0a",
        "colab": {
          "base_uri": "https://localhost:8080/",
          "height": 1000
        }
      },
      "source": [
        "df2 = df[df.standard_value.notna()]\n",
        "df2"
      ],
      "execution_count": 38,
      "outputs": [
        {
          "output_type": "execute_result",
          "data": {
            "text/html": [
              "<div>\n",
              "<style scoped>\n",
              "    .dataframe tbody tr th:only-of-type {\n",
              "        vertical-align: middle;\n",
              "    }\n",
              "\n",
              "    .dataframe tbody tr th {\n",
              "        vertical-align: top;\n",
              "    }\n",
              "\n",
              "    .dataframe thead th {\n",
              "        text-align: right;\n",
              "    }\n",
              "</style>\n",
              "<table border=\"1\" class=\"dataframe\">\n",
              "  <thead>\n",
              "    <tr style=\"text-align: right;\">\n",
              "      <th></th>\n",
              "      <th>activity_comment</th>\n",
              "      <th>activity_id</th>\n",
              "      <th>activity_properties</th>\n",
              "      <th>assay_chembl_id</th>\n",
              "      <th>assay_description</th>\n",
              "      <th>assay_type</th>\n",
              "      <th>assay_variant_accession</th>\n",
              "      <th>assay_variant_mutation</th>\n",
              "      <th>bao_endpoint</th>\n",
              "      <th>bao_format</th>\n",
              "      <th>bao_label</th>\n",
              "      <th>canonical_smiles</th>\n",
              "      <th>data_validity_comment</th>\n",
              "      <th>data_validity_description</th>\n",
              "      <th>document_chembl_id</th>\n",
              "      <th>document_journal</th>\n",
              "      <th>document_year</th>\n",
              "      <th>ligand_efficiency</th>\n",
              "      <th>molecule_chembl_id</th>\n",
              "      <th>molecule_pref_name</th>\n",
              "      <th>parent_molecule_chembl_id</th>\n",
              "      <th>pchembl_value</th>\n",
              "      <th>potential_duplicate</th>\n",
              "      <th>qudt_units</th>\n",
              "      <th>record_id</th>\n",
              "      <th>relation</th>\n",
              "      <th>src_id</th>\n",
              "      <th>standard_flag</th>\n",
              "      <th>standard_relation</th>\n",
              "      <th>standard_text_value</th>\n",
              "      <th>standard_type</th>\n",
              "      <th>standard_units</th>\n",
              "      <th>standard_upper_value</th>\n",
              "      <th>standard_value</th>\n",
              "      <th>target_chembl_id</th>\n",
              "      <th>target_organism</th>\n",
              "      <th>target_pref_name</th>\n",
              "      <th>target_tax_id</th>\n",
              "      <th>text_value</th>\n",
              "      <th>toid</th>\n",
              "      <th>type</th>\n",
              "      <th>units</th>\n",
              "      <th>uo_units</th>\n",
              "      <th>upper_value</th>\n",
              "      <th>value</th>\n",
              "    </tr>\n",
              "  </thead>\n",
              "  <tbody>\n",
              "    <tr>\n",
              "      <th>0</th>\n",
              "      <td>None</td>\n",
              "      <td>16438287</td>\n",
              "      <td>[]</td>\n",
              "      <td>CHEMBL3757365</td>\n",
              "      <td>Inhibition of Mycobacterium tuberculosis ATP s...</td>\n",
              "      <td>B</td>\n",
              "      <td>None</td>\n",
              "      <td>None</td>\n",
              "      <td>BAO_0000190</td>\n",
              "      <td>BAO_0000223</td>\n",
              "      <td>protein complex format</td>\n",
              "      <td>COc1nc2ccccc2cc1C(c1cc2ccccc2nc1OC)C(O)(CCN(C)...</td>\n",
              "      <td>None</td>\n",
              "      <td>None</td>\n",
              "      <td>CHEMBL3751774</td>\n",
              "      <td>MedChemComm</td>\n",
              "      <td>2015</td>\n",
              "      <td>{'bei': '14.09', 'le': '0.26', 'lle': '1.38', ...</td>\n",
              "      <td>CHEMBL3752792</td>\n",
              "      <td>None</td>\n",
              "      <td>CHEMBL3752792</td>\n",
              "      <td>7.16</td>\n",
              "      <td>False</td>\n",
              "      <td>http://www.openphacts.org/units/Nanomolar</td>\n",
              "      <td>2746818</td>\n",
              "      <td>=</td>\n",
              "      <td>1</td>\n",
              "      <td>True</td>\n",
              "      <td>=</td>\n",
              "      <td>None</td>\n",
              "      <td>IC50</td>\n",
              "      <td>nM</td>\n",
              "      <td>None</td>\n",
              "      <td>70.0</td>\n",
              "      <td>CHEMBL2364166</td>\n",
              "      <td>Mycobacterium tuberculosis</td>\n",
              "      <td>ATP synthase</td>\n",
              "      <td>1773</td>\n",
              "      <td>None</td>\n",
              "      <td>None</td>\n",
              "      <td>IC50</td>\n",
              "      <td>uM</td>\n",
              "      <td>UO_0000065</td>\n",
              "      <td>None</td>\n",
              "      <td>0.07</td>\n",
              "    </tr>\n",
              "    <tr>\n",
              "      <th>1</th>\n",
              "      <td>None</td>\n",
              "      <td>16438288</td>\n",
              "      <td>[]</td>\n",
              "      <td>CHEMBL3757365</td>\n",
              "      <td>Inhibition of Mycobacterium tuberculosis ATP s...</td>\n",
              "      <td>B</td>\n",
              "      <td>None</td>\n",
              "      <td>None</td>\n",
              "      <td>BAO_0000190</td>\n",
              "      <td>BAO_0000223</td>\n",
              "      <td>protein complex format</td>\n",
              "      <td>COc1nc2ccccc2cc1C(c1cc2ccccc2nc1OC)C(O)(CCN(C)...</td>\n",
              "      <td>None</td>\n",
              "      <td>None</td>\n",
              "      <td>CHEMBL3751774</td>\n",
              "      <td>MedChemComm</td>\n",
              "      <td>2015</td>\n",
              "      <td>{'bei': '12.45', 'le': '0.26', 'lle': '0.77', ...</td>\n",
              "      <td>CHEMBL3751877</td>\n",
              "      <td>None</td>\n",
              "      <td>CHEMBL3751877</td>\n",
              "      <td>7.30</td>\n",
              "      <td>False</td>\n",
              "      <td>http://www.openphacts.org/units/Nanomolar</td>\n",
              "      <td>2746819</td>\n",
              "      <td>=</td>\n",
              "      <td>1</td>\n",
              "      <td>True</td>\n",
              "      <td>=</td>\n",
              "      <td>None</td>\n",
              "      <td>IC50</td>\n",
              "      <td>nM</td>\n",
              "      <td>None</td>\n",
              "      <td>50.0</td>\n",
              "      <td>CHEMBL2364166</td>\n",
              "      <td>Mycobacterium tuberculosis</td>\n",
              "      <td>ATP synthase</td>\n",
              "      <td>1773</td>\n",
              "      <td>None</td>\n",
              "      <td>None</td>\n",
              "      <td>IC50</td>\n",
              "      <td>uM</td>\n",
              "      <td>UO_0000065</td>\n",
              "      <td>None</td>\n",
              "      <td>0.05</td>\n",
              "    </tr>\n",
              "    <tr>\n",
              "      <th>2</th>\n",
              "      <td>None</td>\n",
              "      <td>16438289</td>\n",
              "      <td>[]</td>\n",
              "      <td>CHEMBL3757365</td>\n",
              "      <td>Inhibition of Mycobacterium tuberculosis ATP s...</td>\n",
              "      <td>B</td>\n",
              "      <td>None</td>\n",
              "      <td>None</td>\n",
              "      <td>BAO_0000190</td>\n",
              "      <td>BAO_0000223</td>\n",
              "      <td>protein complex format</td>\n",
              "      <td>C=CCOc1nc2ccccc2cc1C(c1cc2ccccc2nc1OCC=C)C(O)(...</td>\n",
              "      <td>None</td>\n",
              "      <td>None</td>\n",
              "      <td>CHEMBL3751774</td>\n",
              "      <td>MedChemComm</td>\n",
              "      <td>2015</td>\n",
              "      <td>{'bei': '13.22', 'le': '0.24', 'lle': '0.52', ...</td>\n",
              "      <td>CHEMBL3754648</td>\n",
              "      <td>None</td>\n",
              "      <td>CHEMBL3754648</td>\n",
              "      <td>7.40</td>\n",
              "      <td>False</td>\n",
              "      <td>http://www.openphacts.org/units/Nanomolar</td>\n",
              "      <td>2746820</td>\n",
              "      <td>=</td>\n",
              "      <td>1</td>\n",
              "      <td>True</td>\n",
              "      <td>=</td>\n",
              "      <td>None</td>\n",
              "      <td>IC50</td>\n",
              "      <td>nM</td>\n",
              "      <td>None</td>\n",
              "      <td>40.0</td>\n",
              "      <td>CHEMBL2364166</td>\n",
              "      <td>Mycobacterium tuberculosis</td>\n",
              "      <td>ATP synthase</td>\n",
              "      <td>1773</td>\n",
              "      <td>None</td>\n",
              "      <td>None</td>\n",
              "      <td>IC50</td>\n",
              "      <td>uM</td>\n",
              "      <td>UO_0000065</td>\n",
              "      <td>None</td>\n",
              "      <td>0.04</td>\n",
              "    </tr>\n",
              "    <tr>\n",
              "      <th>3</th>\n",
              "      <td>None</td>\n",
              "      <td>16438290</td>\n",
              "      <td>[]</td>\n",
              "      <td>CHEMBL3757365</td>\n",
              "      <td>Inhibition of Mycobacterium tuberculosis ATP s...</td>\n",
              "      <td>B</td>\n",
              "      <td>None</td>\n",
              "      <td>None</td>\n",
              "      <td>BAO_0000190</td>\n",
              "      <td>BAO_0000223</td>\n",
              "      <td>protein complex format</td>\n",
              "      <td>C=CCOc1nc2ccccc2cc1C(c1cc2ccccc2nc1OCC=C)C(O)(...</td>\n",
              "      <td>None</td>\n",
              "      <td>None</td>\n",
              "      <td>CHEMBL3751774</td>\n",
              "      <td>MedChemComm</td>\n",
              "      <td>2015</td>\n",
              "      <td>{'bei': '11.78', 'le': '0.24', 'lle': '-0.13',...</td>\n",
              "      <td>CHEMBL3752547</td>\n",
              "      <td>None</td>\n",
              "      <td>CHEMBL3752547</td>\n",
              "      <td>7.52</td>\n",
              "      <td>False</td>\n",
              "      <td>http://www.openphacts.org/units/Nanomolar</td>\n",
              "      <td>2746821</td>\n",
              "      <td>=</td>\n",
              "      <td>1</td>\n",
              "      <td>True</td>\n",
              "      <td>=</td>\n",
              "      <td>None</td>\n",
              "      <td>IC50</td>\n",
              "      <td>nM</td>\n",
              "      <td>None</td>\n",
              "      <td>30.0</td>\n",
              "      <td>CHEMBL2364166</td>\n",
              "      <td>Mycobacterium tuberculosis</td>\n",
              "      <td>ATP synthase</td>\n",
              "      <td>1773</td>\n",
              "      <td>None</td>\n",
              "      <td>None</td>\n",
              "      <td>IC50</td>\n",
              "      <td>uM</td>\n",
              "      <td>UO_0000065</td>\n",
              "      <td>None</td>\n",
              "      <td>0.03</td>\n",
              "    </tr>\n",
              "    <tr>\n",
              "      <th>4</th>\n",
              "      <td>None</td>\n",
              "      <td>16438291</td>\n",
              "      <td>[]</td>\n",
              "      <td>CHEMBL3757365</td>\n",
              "      <td>Inhibition of Mycobacterium tuberculosis ATP s...</td>\n",
              "      <td>B</td>\n",
              "      <td>None</td>\n",
              "      <td>None</td>\n",
              "      <td>BAO_0000190</td>\n",
              "      <td>BAO_0000223</td>\n",
              "      <td>protein complex format</td>\n",
              "      <td>C=CCOc1nc2ccccc2cc1C(c1cc2ccccc2nc1OCC=C)C(O)(...</td>\n",
              "      <td>None</td>\n",
              "      <td>None</td>\n",
              "      <td>CHEMBL3751774</td>\n",
              "      <td>MedChemComm</td>\n",
              "      <td>2015</td>\n",
              "      <td>{'bei': '10.26', 'le': '0.21', 'lle': '-1.10',...</td>\n",
              "      <td>CHEMBL3753673</td>\n",
              "      <td>None</td>\n",
              "      <td>CHEMBL3753673</td>\n",
              "      <td>6.55</td>\n",
              "      <td>False</td>\n",
              "      <td>http://www.openphacts.org/units/Nanomolar</td>\n",
              "      <td>2746822</td>\n",
              "      <td>=</td>\n",
              "      <td>1</td>\n",
              "      <td>True</td>\n",
              "      <td>=</td>\n",
              "      <td>None</td>\n",
              "      <td>IC50</td>\n",
              "      <td>nM</td>\n",
              "      <td>None</td>\n",
              "      <td>280.0</td>\n",
              "      <td>CHEMBL2364166</td>\n",
              "      <td>Mycobacterium tuberculosis</td>\n",
              "      <td>ATP synthase</td>\n",
              "      <td>1773</td>\n",
              "      <td>None</td>\n",
              "      <td>None</td>\n",
              "      <td>IC50</td>\n",
              "      <td>uM</td>\n",
              "      <td>UO_0000065</td>\n",
              "      <td>None</td>\n",
              "      <td>0.28</td>\n",
              "    </tr>\n",
              "    <tr>\n",
              "      <th>5</th>\n",
              "      <td>None</td>\n",
              "      <td>16438292</td>\n",
              "      <td>[]</td>\n",
              "      <td>CHEMBL3757365</td>\n",
              "      <td>Inhibition of Mycobacterium tuberculosis ATP s...</td>\n",
              "      <td>B</td>\n",
              "      <td>None</td>\n",
              "      <td>None</td>\n",
              "      <td>BAO_0000190</td>\n",
              "      <td>BAO_0000223</td>\n",
              "      <td>protein complex format</td>\n",
              "      <td>C=CCCOc1nc2ccccc2cc1C(c1cc2ccccc2nc1OCCC=C)C(O...</td>\n",
              "      <td>None</td>\n",
              "      <td>None</td>\n",
              "      <td>CHEMBL3751774</td>\n",
              "      <td>MedChemComm</td>\n",
              "      <td>2015</td>\n",
              "      <td>{'bei': '10.65', 'le': '0.22', 'lle': '-1.33',...</td>\n",
              "      <td>CHEMBL3751865</td>\n",
              "      <td>None</td>\n",
              "      <td>CHEMBL3751865</td>\n",
              "      <td>7.10</td>\n",
              "      <td>False</td>\n",
              "      <td>http://www.openphacts.org/units/Nanomolar</td>\n",
              "      <td>2746823</td>\n",
              "      <td>=</td>\n",
              "      <td>1</td>\n",
              "      <td>True</td>\n",
              "      <td>=</td>\n",
              "      <td>None</td>\n",
              "      <td>IC50</td>\n",
              "      <td>nM</td>\n",
              "      <td>None</td>\n",
              "      <td>80.0</td>\n",
              "      <td>CHEMBL2364166</td>\n",
              "      <td>Mycobacterium tuberculosis</td>\n",
              "      <td>ATP synthase</td>\n",
              "      <td>1773</td>\n",
              "      <td>None</td>\n",
              "      <td>None</td>\n",
              "      <td>IC50</td>\n",
              "      <td>uM</td>\n",
              "      <td>UO_0000065</td>\n",
              "      <td>None</td>\n",
              "      <td>0.08</td>\n",
              "    </tr>\n",
              "    <tr>\n",
              "      <th>6</th>\n",
              "      <td>None</td>\n",
              "      <td>16438293</td>\n",
              "      <td>[]</td>\n",
              "      <td>CHEMBL3757365</td>\n",
              "      <td>Inhibition of Mycobacterium tuberculosis ATP s...</td>\n",
              "      <td>B</td>\n",
              "      <td>None</td>\n",
              "      <td>None</td>\n",
              "      <td>BAO_0000190</td>\n",
              "      <td>BAO_0000223</td>\n",
              "      <td>protein complex format</td>\n",
              "      <td>COc1nc2ccccc2cc1C(c1cc2ccccc2nc1OC)C(O)(CCN(C)...</td>\n",
              "      <td>None</td>\n",
              "      <td>None</td>\n",
              "      <td>CHEMBL3751774</td>\n",
              "      <td>MedChemComm</td>\n",
              "      <td>2015</td>\n",
              "      <td>{'bei': '13.49', 'le': '0.24', 'lle': '0.60', ...</td>\n",
              "      <td>CHEMBL3753028</td>\n",
              "      <td>None</td>\n",
              "      <td>CHEMBL3753028</td>\n",
              "      <td>7.52</td>\n",
              "      <td>False</td>\n",
              "      <td>http://www.openphacts.org/units/Nanomolar</td>\n",
              "      <td>2746824</td>\n",
              "      <td>=</td>\n",
              "      <td>1</td>\n",
              "      <td>True</td>\n",
              "      <td>=</td>\n",
              "      <td>None</td>\n",
              "      <td>IC50</td>\n",
              "      <td>nM</td>\n",
              "      <td>None</td>\n",
              "      <td>30.0</td>\n",
              "      <td>CHEMBL2364166</td>\n",
              "      <td>Mycobacterium tuberculosis</td>\n",
              "      <td>ATP synthase</td>\n",
              "      <td>1773</td>\n",
              "      <td>None</td>\n",
              "      <td>None</td>\n",
              "      <td>IC50</td>\n",
              "      <td>uM</td>\n",
              "      <td>UO_0000065</td>\n",
              "      <td>None</td>\n",
              "      <td>0.03</td>\n",
              "    </tr>\n",
              "    <tr>\n",
              "      <th>7</th>\n",
              "      <td>None</td>\n",
              "      <td>16438294</td>\n",
              "      <td>[]</td>\n",
              "      <td>CHEMBL3757365</td>\n",
              "      <td>Inhibition of Mycobacterium tuberculosis ATP s...</td>\n",
              "      <td>B</td>\n",
              "      <td>None</td>\n",
              "      <td>None</td>\n",
              "      <td>BAO_0000190</td>\n",
              "      <td>BAO_0000223</td>\n",
              "      <td>protein complex format</td>\n",
              "      <td>COc1nc2ccccc2cc1C(c1cc2ccccc2nc1OC)C(O)(CCN(C)...</td>\n",
              "      <td>None</td>\n",
              "      <td>None</td>\n",
              "      <td>CHEMBL3751774</td>\n",
              "      <td>MedChemComm</td>\n",
              "      <td>2015</td>\n",
              "      <td>{'bei': '13.64', 'le': '0.28', 'lle': '1.47', ...</td>\n",
              "      <td>CHEMBL3754231</td>\n",
              "      <td>None</td>\n",
              "      <td>CHEMBL3754231</td>\n",
              "      <td>8.00</td>\n",
              "      <td>False</td>\n",
              "      <td>http://www.openphacts.org/units/Nanomolar</td>\n",
              "      <td>2746825</td>\n",
              "      <td>=</td>\n",
              "      <td>1</td>\n",
              "      <td>True</td>\n",
              "      <td>=</td>\n",
              "      <td>None</td>\n",
              "      <td>IC50</td>\n",
              "      <td>nM</td>\n",
              "      <td>None</td>\n",
              "      <td>10.0</td>\n",
              "      <td>CHEMBL2364166</td>\n",
              "      <td>Mycobacterium tuberculosis</td>\n",
              "      <td>ATP synthase</td>\n",
              "      <td>1773</td>\n",
              "      <td>None</td>\n",
              "      <td>None</td>\n",
              "      <td>IC50</td>\n",
              "      <td>uM</td>\n",
              "      <td>UO_0000065</td>\n",
              "      <td>None</td>\n",
              "      <td>0.01</td>\n",
              "    </tr>\n",
              "    <tr>\n",
              "      <th>8</th>\n",
              "      <td>None</td>\n",
              "      <td>16438295</td>\n",
              "      <td>[]</td>\n",
              "      <td>CHEMBL3757365</td>\n",
              "      <td>Inhibition of Mycobacterium tuberculosis ATP s...</td>\n",
              "      <td>B</td>\n",
              "      <td>None</td>\n",
              "      <td>None</td>\n",
              "      <td>BAO_0000190</td>\n",
              "      <td>BAO_0000223</td>\n",
              "      <td>protein complex format</td>\n",
              "      <td>COc1nc2ccccc2cc1C(c1cc2ccccc2nc1OC)C(O)(CCN(C)...</td>\n",
              "      <td>None</td>\n",
              "      <td>None</td>\n",
              "      <td>CHEMBL3751774</td>\n",
              "      <td>MedChemComm</td>\n",
              "      <td>2015</td>\n",
              "      <td>{'bei': '16.14', 'le': '0.29', 'lle': '2.08', ...</td>\n",
              "      <td>CHEMBL3754673</td>\n",
              "      <td>None</td>\n",
              "      <td>CHEMBL3754673</td>\n",
              "      <td>9.00</td>\n",
              "      <td>False</td>\n",
              "      <td>http://www.openphacts.org/units/Nanomolar</td>\n",
              "      <td>2746826</td>\n",
              "      <td>=</td>\n",
              "      <td>1</td>\n",
              "      <td>True</td>\n",
              "      <td>=</td>\n",
              "      <td>None</td>\n",
              "      <td>IC50</td>\n",
              "      <td>nM</td>\n",
              "      <td>None</td>\n",
              "      <td>1.0</td>\n",
              "      <td>CHEMBL2364166</td>\n",
              "      <td>Mycobacterium tuberculosis</td>\n",
              "      <td>ATP synthase</td>\n",
              "      <td>1773</td>\n",
              "      <td>None</td>\n",
              "      <td>None</td>\n",
              "      <td>IC50</td>\n",
              "      <td>uM</td>\n",
              "      <td>UO_0000065</td>\n",
              "      <td>None</td>\n",
              "      <td>0.001</td>\n",
              "    </tr>\n",
              "    <tr>\n",
              "      <th>9</th>\n",
              "      <td>None</td>\n",
              "      <td>16438296</td>\n",
              "      <td>[]</td>\n",
              "      <td>CHEMBL3757365</td>\n",
              "      <td>Inhibition of Mycobacterium tuberculosis ATP s...</td>\n",
              "      <td>B</td>\n",
              "      <td>None</td>\n",
              "      <td>None</td>\n",
              "      <td>BAO_0000190</td>\n",
              "      <td>BAO_0000223</td>\n",
              "      <td>protein complex format</td>\n",
              "      <td>CN(C)CCC(O)(c1cccc(Br)c1)C1c2cc3ccccc3nc2OCC/C...</td>\n",
              "      <td>None</td>\n",
              "      <td>None</td>\n",
              "      <td>CHEMBL3751774</td>\n",
              "      <td>MedChemComm</td>\n",
              "      <td>2015</td>\n",
              "      <td>{'bei': '12.53', 'le': '0.25', 'lle': '0.38', ...</td>\n",
              "      <td>CHEMBL3753969</td>\n",
              "      <td>None</td>\n",
              "      <td>CHEMBL3753969</td>\n",
              "      <td>8.00</td>\n",
              "      <td>False</td>\n",
              "      <td>http://www.openphacts.org/units/Nanomolar</td>\n",
              "      <td>2746827</td>\n",
              "      <td>=</td>\n",
              "      <td>1</td>\n",
              "      <td>True</td>\n",
              "      <td>=</td>\n",
              "      <td>None</td>\n",
              "      <td>IC50</td>\n",
              "      <td>nM</td>\n",
              "      <td>None</td>\n",
              "      <td>10.0</td>\n",
              "      <td>CHEMBL2364166</td>\n",
              "      <td>Mycobacterium tuberculosis</td>\n",
              "      <td>ATP synthase</td>\n",
              "      <td>1773</td>\n",
              "      <td>None</td>\n",
              "      <td>None</td>\n",
              "      <td>IC50</td>\n",
              "      <td>uM</td>\n",
              "      <td>UO_0000065</td>\n",
              "      <td>None</td>\n",
              "      <td>0.01</td>\n",
              "    </tr>\n",
              "    <tr>\n",
              "      <th>10</th>\n",
              "      <td>None</td>\n",
              "      <td>19308144</td>\n",
              "      <td>[]</td>\n",
              "      <td>CHEMBL4415642</td>\n",
              "      <td>Inhibition of ATP synthase in Mycobacterium tu...</td>\n",
              "      <td>B</td>\n",
              "      <td>None</td>\n",
              "      <td>None</td>\n",
              "      <td>BAO_0000190</td>\n",
              "      <td>BAO_0000223</td>\n",
              "      <td>protein complex format</td>\n",
              "      <td>CCN(CC)Cc1cc(N(c2cc(C)nc3cc(Cl)ccc23)S(=O)(=O)...</td>\n",
              "      <td>None</td>\n",
              "      <td>None</td>\n",
              "      <td>CHEMBL4414576</td>\n",
              "      <td>Eur J Med Chem</td>\n",
              "      <td>2019</td>\n",
              "      <td>{'bei': '11.97', 'le': '0.24', 'lle': '-0.45',...</td>\n",
              "      <td>CHEMBL3402635</td>\n",
              "      <td>None</td>\n",
              "      <td>CHEMBL3402635</td>\n",
              "      <td>6.44</td>\n",
              "      <td>False</td>\n",
              "      <td>http://www.openphacts.org/units/Nanomolar</td>\n",
              "      <td>3224112</td>\n",
              "      <td>=</td>\n",
              "      <td>1</td>\n",
              "      <td>True</td>\n",
              "      <td>=</td>\n",
              "      <td>None</td>\n",
              "      <td>IC50</td>\n",
              "      <td>nM</td>\n",
              "      <td>None</td>\n",
              "      <td>360.0</td>\n",
              "      <td>CHEMBL2364166</td>\n",
              "      <td>Mycobacterium tuberculosis</td>\n",
              "      <td>ATP synthase</td>\n",
              "      <td>1773</td>\n",
              "      <td>None</td>\n",
              "      <td>None</td>\n",
              "      <td>IC50</td>\n",
              "      <td>uM</td>\n",
              "      <td>UO_0000065</td>\n",
              "      <td>1.83</td>\n",
              "      <td>0.36</td>\n",
              "    </tr>\n",
              "    <tr>\n",
              "      <th>11</th>\n",
              "      <td>None</td>\n",
              "      <td>19308160</td>\n",
              "      <td>[]</td>\n",
              "      <td>CHEMBL4415642</td>\n",
              "      <td>Inhibition of ATP synthase in Mycobacterium tu...</td>\n",
              "      <td>B</td>\n",
              "      <td>None</td>\n",
              "      <td>None</td>\n",
              "      <td>BAO_0000190</td>\n",
              "      <td>BAO_0000223</td>\n",
              "      <td>protein complex format</td>\n",
              "      <td>CCN(CC)Cc1cc(N(c2cc(C)nc3cc(Cl)ccc23)S(=O)(=O)...</td>\n",
              "      <td>None</td>\n",
              "      <td>None</td>\n",
              "      <td>CHEMBL4414576</td>\n",
              "      <td>Eur J Med Chem</td>\n",
              "      <td>2019</td>\n",
              "      <td>{'bei': '11.83', 'le': '0.24', 'lle': '-0.48',...</td>\n",
              "      <td>CHEMBL3402627</td>\n",
              "      <td>None</td>\n",
              "      <td>CHEMBL3402627</td>\n",
              "      <td>6.44</td>\n",
              "      <td>False</td>\n",
              "      <td>http://www.openphacts.org/units/Nanomolar</td>\n",
              "      <td>3224107</td>\n",
              "      <td>=</td>\n",
              "      <td>1</td>\n",
              "      <td>True</td>\n",
              "      <td>=</td>\n",
              "      <td>None</td>\n",
              "      <td>IC50</td>\n",
              "      <td>nM</td>\n",
              "      <td>None</td>\n",
              "      <td>360.0</td>\n",
              "      <td>CHEMBL2364166</td>\n",
              "      <td>Mycobacterium tuberculosis</td>\n",
              "      <td>ATP synthase</td>\n",
              "      <td>1773</td>\n",
              "      <td>None</td>\n",
              "      <td>None</td>\n",
              "      <td>IC50</td>\n",
              "      <td>uM</td>\n",
              "      <td>UO_0000065</td>\n",
              "      <td>1.83</td>\n",
              "      <td>0.36</td>\n",
              "    </tr>\n",
              "    <tr>\n",
              "      <th>12</th>\n",
              "      <td>None</td>\n",
              "      <td>19308161</td>\n",
              "      <td>[]</td>\n",
              "      <td>CHEMBL4415642</td>\n",
              "      <td>Inhibition of ATP synthase in Mycobacterium tu...</td>\n",
              "      <td>B</td>\n",
              "      <td>None</td>\n",
              "      <td>None</td>\n",
              "      <td>BAO_0000190</td>\n",
              "      <td>BAO_0000223</td>\n",
              "      <td>protein complex format</td>\n",
              "      <td>CCN(CC)Cc1cc(N(c2cc(C)nc3cc(Cl)ccc23)S(=O)(=O)...</td>\n",
              "      <td>None</td>\n",
              "      <td>None</td>\n",
              "      <td>CHEMBL4414576</td>\n",
              "      <td>Eur J Med Chem</td>\n",
              "      <td>2019</td>\n",
              "      <td>{'bei': '11.13', 'le': '0.24', 'lle': '-1.14',...</td>\n",
              "      <td>CHEMBL3402631</td>\n",
              "      <td>None</td>\n",
              "      <td>CHEMBL3402631</td>\n",
              "      <td>6.44</td>\n",
              "      <td>False</td>\n",
              "      <td>http://www.openphacts.org/units/Nanomolar</td>\n",
              "      <td>3224108</td>\n",
              "      <td>=</td>\n",
              "      <td>1</td>\n",
              "      <td>True</td>\n",
              "      <td>=</td>\n",
              "      <td>None</td>\n",
              "      <td>IC50</td>\n",
              "      <td>nM</td>\n",
              "      <td>None</td>\n",
              "      <td>360.0</td>\n",
              "      <td>CHEMBL2364166</td>\n",
              "      <td>Mycobacterium tuberculosis</td>\n",
              "      <td>ATP synthase</td>\n",
              "      <td>1773</td>\n",
              "      <td>None</td>\n",
              "      <td>None</td>\n",
              "      <td>IC50</td>\n",
              "      <td>uM</td>\n",
              "      <td>UO_0000065</td>\n",
              "      <td>1.83</td>\n",
              "      <td>0.36</td>\n",
              "    </tr>\n",
              "    <tr>\n",
              "      <th>13</th>\n",
              "      <td>None</td>\n",
              "      <td>19308162</td>\n",
              "      <td>[]</td>\n",
              "      <td>CHEMBL4415642</td>\n",
              "      <td>Inhibition of ATP synthase in Mycobacterium tu...</td>\n",
              "      <td>B</td>\n",
              "      <td>None</td>\n",
              "      <td>None</td>\n",
              "      <td>BAO_0000190</td>\n",
              "      <td>BAO_0000223</td>\n",
              "      <td>protein complex format</td>\n",
              "      <td>CCN(CC)Cc1cc(N(c2cc(C)nc3cc(Cl)ccc23)S(=O)(=O)...</td>\n",
              "      <td>None</td>\n",
              "      <td>None</td>\n",
              "      <td>CHEMBL4414576</td>\n",
              "      <td>Eur J Med Chem</td>\n",
              "      <td>2019</td>\n",
              "      <td>{'bei': '11.70', 'le': '0.25', 'lle': '-0.55',...</td>\n",
              "      <td>CHEMBL3400982</td>\n",
              "      <td>None</td>\n",
              "      <td>CHEMBL3400982</td>\n",
              "      <td>6.44</td>\n",
              "      <td>False</td>\n",
              "      <td>http://www.openphacts.org/units/Nanomolar</td>\n",
              "      <td>3224109</td>\n",
              "      <td>=</td>\n",
              "      <td>1</td>\n",
              "      <td>True</td>\n",
              "      <td>=</td>\n",
              "      <td>None</td>\n",
              "      <td>IC50</td>\n",
              "      <td>nM</td>\n",
              "      <td>None</td>\n",
              "      <td>360.0</td>\n",
              "      <td>CHEMBL2364166</td>\n",
              "      <td>Mycobacterium tuberculosis</td>\n",
              "      <td>ATP synthase</td>\n",
              "      <td>1773</td>\n",
              "      <td>None</td>\n",
              "      <td>None</td>\n",
              "      <td>IC50</td>\n",
              "      <td>uM</td>\n",
              "      <td>UO_0000065</td>\n",
              "      <td>1.83</td>\n",
              "      <td>0.36</td>\n",
              "    </tr>\n",
              "    <tr>\n",
              "      <th>14</th>\n",
              "      <td>None</td>\n",
              "      <td>19308163</td>\n",
              "      <td>[]</td>\n",
              "      <td>CHEMBL4415642</td>\n",
              "      <td>Inhibition of ATP synthase in Mycobacterium tu...</td>\n",
              "      <td>B</td>\n",
              "      <td>None</td>\n",
              "      <td>None</td>\n",
              "      <td>BAO_0000190</td>\n",
              "      <td>BAO_0000223</td>\n",
              "      <td>protein complex format</td>\n",
              "      <td>CCN(CC)Cc1cc(N(c2cc(C)nc3cc(Cl)ccc23)S(=O)(=O)...</td>\n",
              "      <td>None</td>\n",
              "      <td>None</td>\n",
              "      <td>CHEMBL4414576</td>\n",
              "      <td>Eur J Med Chem</td>\n",
              "      <td>2019</td>\n",
              "      <td>{'bei': '11.13', 'le': '0.24', 'lle': '-1.14',...</td>\n",
              "      <td>CHEMBL3402630</td>\n",
              "      <td>None</td>\n",
              "      <td>CHEMBL3402630</td>\n",
              "      <td>6.44</td>\n",
              "      <td>False</td>\n",
              "      <td>http://www.openphacts.org/units/Nanomolar</td>\n",
              "      <td>3224110</td>\n",
              "      <td>=</td>\n",
              "      <td>1</td>\n",
              "      <td>True</td>\n",
              "      <td>=</td>\n",
              "      <td>None</td>\n",
              "      <td>IC50</td>\n",
              "      <td>nM</td>\n",
              "      <td>None</td>\n",
              "      <td>360.0</td>\n",
              "      <td>CHEMBL2364166</td>\n",
              "      <td>Mycobacterium tuberculosis</td>\n",
              "      <td>ATP synthase</td>\n",
              "      <td>1773</td>\n",
              "      <td>None</td>\n",
              "      <td>None</td>\n",
              "      <td>IC50</td>\n",
              "      <td>uM</td>\n",
              "      <td>UO_0000065</td>\n",
              "      <td>1.83</td>\n",
              "      <td>0.36</td>\n",
              "    </tr>\n",
              "    <tr>\n",
              "      <th>15</th>\n",
              "      <td>None</td>\n",
              "      <td>19308164</td>\n",
              "      <td>[]</td>\n",
              "      <td>CHEMBL4415642</td>\n",
              "      <td>Inhibition of ATP synthase in Mycobacterium tu...</td>\n",
              "      <td>B</td>\n",
              "      <td>None</td>\n",
              "      <td>None</td>\n",
              "      <td>BAO_0000190</td>\n",
              "      <td>BAO_0000223</td>\n",
              "      <td>protein complex format</td>\n",
              "      <td>CCN(CC)Cc1cc(N(c2cc(C)nc3cc(Cl)ccc23)S(=O)(=O)...</td>\n",
              "      <td>None</td>\n",
              "      <td>None</td>\n",
              "      <td>CHEMBL4414576</td>\n",
              "      <td>Eur J Med Chem</td>\n",
              "      <td>2019</td>\n",
              "      <td>{'bei': '11.61', 'le': '0.23', 'lle': '0.26', ...</td>\n",
              "      <td>CHEMBL3402629</td>\n",
              "      <td>None</td>\n",
              "      <td>CHEMBL3402629</td>\n",
              "      <td>6.44</td>\n",
              "      <td>False</td>\n",
              "      <td>http://www.openphacts.org/units/Nanomolar</td>\n",
              "      <td>3224111</td>\n",
              "      <td>=</td>\n",
              "      <td>1</td>\n",
              "      <td>True</td>\n",
              "      <td>=</td>\n",
              "      <td>None</td>\n",
              "      <td>IC50</td>\n",
              "      <td>nM</td>\n",
              "      <td>None</td>\n",
              "      <td>360.0</td>\n",
              "      <td>CHEMBL2364166</td>\n",
              "      <td>Mycobacterium tuberculosis</td>\n",
              "      <td>ATP synthase</td>\n",
              "      <td>1773</td>\n",
              "      <td>None</td>\n",
              "      <td>None</td>\n",
              "      <td>IC50</td>\n",
              "      <td>uM</td>\n",
              "      <td>UO_0000065</td>\n",
              "      <td>1.83</td>\n",
              "      <td>0.36</td>\n",
              "    </tr>\n",
              "  </tbody>\n",
              "</table>\n",
              "</div>"
            ],
            "text/plain": [
              "   activity_comment  activity_id  ... upper_value  value\n",
              "0              None     16438287  ...        None   0.07\n",
              "1              None     16438288  ...        None   0.05\n",
              "2              None     16438289  ...        None   0.04\n",
              "3              None     16438290  ...        None   0.03\n",
              "4              None     16438291  ...        None   0.28\n",
              "5              None     16438292  ...        None   0.08\n",
              "6              None     16438293  ...        None   0.03\n",
              "7              None     16438294  ...        None   0.01\n",
              "8              None     16438295  ...        None  0.001\n",
              "9              None     16438296  ...        None   0.01\n",
              "10             None     19308144  ...        1.83   0.36\n",
              "11             None     19308160  ...        1.83   0.36\n",
              "12             None     19308161  ...        1.83   0.36\n",
              "13             None     19308162  ...        1.83   0.36\n",
              "14             None     19308163  ...        1.83   0.36\n",
              "15             None     19308164  ...        1.83   0.36\n",
              "\n",
              "[16 rows x 45 columns]"
            ]
          },
          "metadata": {},
          "execution_count": 38
        }
      ]
    },
    {
      "cell_type": "markdown",
      "metadata": {
        "id": "Y-qNsUlmjS25"
      },
      "source": [
        "Apparently, for this dataset there is no missing data. But we can use the above code cell for bioactivity data of other target protein."
      ]
    },
    {
      "cell_type": "markdown",
      "metadata": {
        "id": "5H4sSFAWhV9B"
      },
      "source": [
        "## **Data pre-processing of the bioactivity data**"
      ]
    },
    {
      "cell_type": "markdown",
      "metadata": {
        "id": "tO22XVlzhkXR"
      },
      "source": [
        "### **Labeling compounds as either being active, inactive or intermediate**\n",
        "The bioactivity data is in the IC50 unit. Compounds having values of less than 1000 nM will be considered to be **active** while those greater than 10,000 nM will be considered to be **inactive**. As for those values in between 1,000 and 10,000 nM will be referred to as **intermediate**. "
      ]
    },
    {
      "cell_type": "code",
      "metadata": {
        "id": "1E8rz7oMOd-5"
      },
      "source": [
        "bioactivity_class = []\n",
        "for i in df2.standard_value:\n",
        "  if float(i) >= 10000:\n",
        "    bioactivity_class.append(\"inactive\")\n",
        "  elif float(i) <= 1000:\n",
        "    bioactivity_class.append(\"active\")\n",
        "  else:\n",
        "    bioactivity_class.append(\"intermediate\")"
      ],
      "execution_count": 39,
      "outputs": []
    },
    {
      "cell_type": "markdown",
      "metadata": {
        "id": "PFsmb2N9hnTB"
      },
      "source": [
        "### **Iterate the *molecule_chembl_id* to a list**"
      ]
    },
    {
      "cell_type": "code",
      "metadata": {
        "id": "DMJng9xnVnMM"
      },
      "source": [
        "mol_cid = []\n",
        "for i in df2.molecule_chembl_id:\n",
        "  mol_cid.append(i)"
      ],
      "execution_count": 42,
      "outputs": []
    },
    {
      "cell_type": "code",
      "source": [
        "mol_cid"
      ],
      "metadata": {
        "id": "79Nq6PBa0_iI",
        "outputId": "56728220-e4ea-4787-feb2-068fba07d37f",
        "colab": {
          "base_uri": "https://localhost:8080/"
        }
      },
      "execution_count": 43,
      "outputs": [
        {
          "output_type": "execute_result",
          "data": {
            "text/plain": [
              "['CHEMBL3752792',\n",
              " 'CHEMBL3751877',\n",
              " 'CHEMBL3754648',\n",
              " 'CHEMBL3752547',\n",
              " 'CHEMBL3753673',\n",
              " 'CHEMBL3751865',\n",
              " 'CHEMBL3753028',\n",
              " 'CHEMBL3754231',\n",
              " 'CHEMBL3754673',\n",
              " 'CHEMBL3753969',\n",
              " 'CHEMBL3402635',\n",
              " 'CHEMBL3402627',\n",
              " 'CHEMBL3402631',\n",
              " 'CHEMBL3400982',\n",
              " 'CHEMBL3402630',\n",
              " 'CHEMBL3402629']"
            ]
          },
          "metadata": {},
          "execution_count": 43
        }
      ]
    },
    {
      "cell_type": "markdown",
      "metadata": {
        "id": "YRieJc9dhuVZ"
      },
      "source": [
        "### **Iterate *canonical_smiles* to a list**"
      ]
    },
    {
      "cell_type": "code",
      "metadata": {
        "id": "AT8qUBk1eVmj"
      },
      "source": [
        "canonical_smiles = []\n",
        "for i in df2.canonical_smiles:\n",
        "  canonical_smiles.append(i)"
      ],
      "execution_count": 44,
      "outputs": []
    },
    {
      "cell_type": "markdown",
      "metadata": {
        "id": "DZFugUXxhwjE"
      },
      "source": [
        "### **Iterate *standard_value* to a list**"
      ]
    },
    {
      "cell_type": "code",
      "metadata": {
        "id": "ZaPt-FjEZNBe"
      },
      "source": [
        "standard_value = []\n",
        "for i in df2.standard_value:\n",
        "  standard_value.append(i)"
      ],
      "execution_count": 45,
      "outputs": []
    },
    {
      "cell_type": "markdown",
      "metadata": {
        "id": "Nv2dzid_hzKd"
      },
      "source": [
        "### **Combine the 4 lists into a dataframe**"
      ]
    },
    {
      "cell_type": "code",
      "metadata": {
        "id": "TWlYO4I3Wrh-"
      },
      "source": [
        "data_tuples = list(zip(mol_cid, canonical_smiles, bioactivity_class, standard_value))\n",
        "df3 = pd.DataFrame( data_tuples,  columns=['molecule_chembl_id', 'canonical_smiles', 'bioactivity_class', 'standard_value'])"
      ],
      "execution_count": 46,
      "outputs": []
    },
    {
      "cell_type": "code",
      "metadata": {
        "id": "Li64nUiZQ-y2",
        "outputId": "0a33dfd9-f5d0-46ed-f351-6d2a83c9fbb3",
        "colab": {
          "base_uri": "https://localhost:8080/",
          "height": 551
        }
      },
      "source": [
        "df3"
      ],
      "execution_count": 47,
      "outputs": [
        {
          "output_type": "execute_result",
          "data": {
            "text/html": [
              "<div>\n",
              "<style scoped>\n",
              "    .dataframe tbody tr th:only-of-type {\n",
              "        vertical-align: middle;\n",
              "    }\n",
              "\n",
              "    .dataframe tbody tr th {\n",
              "        vertical-align: top;\n",
              "    }\n",
              "\n",
              "    .dataframe thead th {\n",
              "        text-align: right;\n",
              "    }\n",
              "</style>\n",
              "<table border=\"1\" class=\"dataframe\">\n",
              "  <thead>\n",
              "    <tr style=\"text-align: right;\">\n",
              "      <th></th>\n",
              "      <th>molecule_chembl_id</th>\n",
              "      <th>canonical_smiles</th>\n",
              "      <th>bioactivity_class</th>\n",
              "      <th>standard_value</th>\n",
              "    </tr>\n",
              "  </thead>\n",
              "  <tbody>\n",
              "    <tr>\n",
              "      <th>0</th>\n",
              "      <td>CHEMBL3752792</td>\n",
              "      <td>COc1nc2ccccc2cc1C(c1cc2ccccc2nc1OC)C(O)(CCN(C)...</td>\n",
              "      <td>active</td>\n",
              "      <td>70.0</td>\n",
              "    </tr>\n",
              "    <tr>\n",
              "      <th>1</th>\n",
              "      <td>CHEMBL3751877</td>\n",
              "      <td>COc1nc2ccccc2cc1C(c1cc2ccccc2nc1OC)C(O)(CCN(C)...</td>\n",
              "      <td>active</td>\n",
              "      <td>50.0</td>\n",
              "    </tr>\n",
              "    <tr>\n",
              "      <th>2</th>\n",
              "      <td>CHEMBL3754648</td>\n",
              "      <td>C=CCOc1nc2ccccc2cc1C(c1cc2ccccc2nc1OCC=C)C(O)(...</td>\n",
              "      <td>active</td>\n",
              "      <td>40.0</td>\n",
              "    </tr>\n",
              "    <tr>\n",
              "      <th>3</th>\n",
              "      <td>CHEMBL3752547</td>\n",
              "      <td>C=CCOc1nc2ccccc2cc1C(c1cc2ccccc2nc1OCC=C)C(O)(...</td>\n",
              "      <td>active</td>\n",
              "      <td>30.0</td>\n",
              "    </tr>\n",
              "    <tr>\n",
              "      <th>4</th>\n",
              "      <td>CHEMBL3753673</td>\n",
              "      <td>C=CCOc1nc2ccccc2cc1C(c1cc2ccccc2nc1OCC=C)C(O)(...</td>\n",
              "      <td>active</td>\n",
              "      <td>280.0</td>\n",
              "    </tr>\n",
              "    <tr>\n",
              "      <th>5</th>\n",
              "      <td>CHEMBL3751865</td>\n",
              "      <td>C=CCCOc1nc2ccccc2cc1C(c1cc2ccccc2nc1OCCC=C)C(O...</td>\n",
              "      <td>active</td>\n",
              "      <td>80.0</td>\n",
              "    </tr>\n",
              "    <tr>\n",
              "      <th>6</th>\n",
              "      <td>CHEMBL3753028</td>\n",
              "      <td>COc1nc2ccccc2cc1C(c1cc2ccccc2nc1OC)C(O)(CCN(C)...</td>\n",
              "      <td>active</td>\n",
              "      <td>30.0</td>\n",
              "    </tr>\n",
              "    <tr>\n",
              "      <th>7</th>\n",
              "      <td>CHEMBL3754231</td>\n",
              "      <td>COc1nc2ccccc2cc1C(c1cc2ccccc2nc1OC)C(O)(CCN(C)...</td>\n",
              "      <td>active</td>\n",
              "      <td>10.0</td>\n",
              "    </tr>\n",
              "    <tr>\n",
              "      <th>8</th>\n",
              "      <td>CHEMBL3754673</td>\n",
              "      <td>COc1nc2ccccc2cc1C(c1cc2ccccc2nc1OC)C(O)(CCN(C)...</td>\n",
              "      <td>active</td>\n",
              "      <td>1.0</td>\n",
              "    </tr>\n",
              "    <tr>\n",
              "      <th>9</th>\n",
              "      <td>CHEMBL3753969</td>\n",
              "      <td>CN(C)CCC(O)(c1cccc(Br)c1)C1c2cc3ccccc3nc2OCC/C...</td>\n",
              "      <td>active</td>\n",
              "      <td>10.0</td>\n",
              "    </tr>\n",
              "    <tr>\n",
              "      <th>10</th>\n",
              "      <td>CHEMBL3402635</td>\n",
              "      <td>CCN(CC)Cc1cc(N(c2cc(C)nc3cc(Cl)ccc23)S(=O)(=O)...</td>\n",
              "      <td>active</td>\n",
              "      <td>360.0</td>\n",
              "    </tr>\n",
              "    <tr>\n",
              "      <th>11</th>\n",
              "      <td>CHEMBL3402627</td>\n",
              "      <td>CCN(CC)Cc1cc(N(c2cc(C)nc3cc(Cl)ccc23)S(=O)(=O)...</td>\n",
              "      <td>active</td>\n",
              "      <td>360.0</td>\n",
              "    </tr>\n",
              "    <tr>\n",
              "      <th>12</th>\n",
              "      <td>CHEMBL3402631</td>\n",
              "      <td>CCN(CC)Cc1cc(N(c2cc(C)nc3cc(Cl)ccc23)S(=O)(=O)...</td>\n",
              "      <td>active</td>\n",
              "      <td>360.0</td>\n",
              "    </tr>\n",
              "    <tr>\n",
              "      <th>13</th>\n",
              "      <td>CHEMBL3400982</td>\n",
              "      <td>CCN(CC)Cc1cc(N(c2cc(C)nc3cc(Cl)ccc23)S(=O)(=O)...</td>\n",
              "      <td>active</td>\n",
              "      <td>360.0</td>\n",
              "    </tr>\n",
              "    <tr>\n",
              "      <th>14</th>\n",
              "      <td>CHEMBL3402630</td>\n",
              "      <td>CCN(CC)Cc1cc(N(c2cc(C)nc3cc(Cl)ccc23)S(=O)(=O)...</td>\n",
              "      <td>active</td>\n",
              "      <td>360.0</td>\n",
              "    </tr>\n",
              "    <tr>\n",
              "      <th>15</th>\n",
              "      <td>CHEMBL3402629</td>\n",
              "      <td>CCN(CC)Cc1cc(N(c2cc(C)nc3cc(Cl)ccc23)S(=O)(=O)...</td>\n",
              "      <td>active</td>\n",
              "      <td>360.0</td>\n",
              "    </tr>\n",
              "  </tbody>\n",
              "</table>\n",
              "</div>"
            ],
            "text/plain": [
              "   molecule_chembl_id  ... standard_value\n",
              "0       CHEMBL3752792  ...           70.0\n",
              "1       CHEMBL3751877  ...           50.0\n",
              "2       CHEMBL3754648  ...           40.0\n",
              "3       CHEMBL3752547  ...           30.0\n",
              "4       CHEMBL3753673  ...          280.0\n",
              "5       CHEMBL3751865  ...           80.0\n",
              "6       CHEMBL3753028  ...           30.0\n",
              "7       CHEMBL3754231  ...           10.0\n",
              "8       CHEMBL3754673  ...            1.0\n",
              "9       CHEMBL3753969  ...           10.0\n",
              "10      CHEMBL3402635  ...          360.0\n",
              "11      CHEMBL3402627  ...          360.0\n",
              "12      CHEMBL3402631  ...          360.0\n",
              "13      CHEMBL3400982  ...          360.0\n",
              "14      CHEMBL3402630  ...          360.0\n",
              "15      CHEMBL3402629  ...          360.0\n",
              "\n",
              "[16 rows x 4 columns]"
            ]
          },
          "metadata": {},
          "execution_count": 47
        }
      ]
    },
    {
      "cell_type": "markdown",
      "metadata": {
        "id": "vE0Vvo6ic3MI"
      },
      "source": [
        "### **Alternative method**"
      ]
    },
    {
      "cell_type": "code",
      "metadata": {
        "id": "VICiiCtqc2ne",
        "outputId": "28b73e2d-254f-4243-f035-662704f187f2",
        "colab": {
          "base_uri": "https://localhost:8080/",
          "height": 551
        }
      },
      "source": [
        "selection = ['molecule_chembl_id', 'canonical_smiles', 'standard_value']\n",
        "df3 = df2[selection]\n",
        "df3"
      ],
      "execution_count": 48,
      "outputs": [
        {
          "output_type": "execute_result",
          "data": {
            "text/html": [
              "<div>\n",
              "<style scoped>\n",
              "    .dataframe tbody tr th:only-of-type {\n",
              "        vertical-align: middle;\n",
              "    }\n",
              "\n",
              "    .dataframe tbody tr th {\n",
              "        vertical-align: top;\n",
              "    }\n",
              "\n",
              "    .dataframe thead th {\n",
              "        text-align: right;\n",
              "    }\n",
              "</style>\n",
              "<table border=\"1\" class=\"dataframe\">\n",
              "  <thead>\n",
              "    <tr style=\"text-align: right;\">\n",
              "      <th></th>\n",
              "      <th>molecule_chembl_id</th>\n",
              "      <th>canonical_smiles</th>\n",
              "      <th>standard_value</th>\n",
              "    </tr>\n",
              "  </thead>\n",
              "  <tbody>\n",
              "    <tr>\n",
              "      <th>0</th>\n",
              "      <td>CHEMBL3752792</td>\n",
              "      <td>COc1nc2ccccc2cc1C(c1cc2ccccc2nc1OC)C(O)(CCN(C)...</td>\n",
              "      <td>70.0</td>\n",
              "    </tr>\n",
              "    <tr>\n",
              "      <th>1</th>\n",
              "      <td>CHEMBL3751877</td>\n",
              "      <td>COc1nc2ccccc2cc1C(c1cc2ccccc2nc1OC)C(O)(CCN(C)...</td>\n",
              "      <td>50.0</td>\n",
              "    </tr>\n",
              "    <tr>\n",
              "      <th>2</th>\n",
              "      <td>CHEMBL3754648</td>\n",
              "      <td>C=CCOc1nc2ccccc2cc1C(c1cc2ccccc2nc1OCC=C)C(O)(...</td>\n",
              "      <td>40.0</td>\n",
              "    </tr>\n",
              "    <tr>\n",
              "      <th>3</th>\n",
              "      <td>CHEMBL3752547</td>\n",
              "      <td>C=CCOc1nc2ccccc2cc1C(c1cc2ccccc2nc1OCC=C)C(O)(...</td>\n",
              "      <td>30.0</td>\n",
              "    </tr>\n",
              "    <tr>\n",
              "      <th>4</th>\n",
              "      <td>CHEMBL3753673</td>\n",
              "      <td>C=CCOc1nc2ccccc2cc1C(c1cc2ccccc2nc1OCC=C)C(O)(...</td>\n",
              "      <td>280.0</td>\n",
              "    </tr>\n",
              "    <tr>\n",
              "      <th>5</th>\n",
              "      <td>CHEMBL3751865</td>\n",
              "      <td>C=CCCOc1nc2ccccc2cc1C(c1cc2ccccc2nc1OCCC=C)C(O...</td>\n",
              "      <td>80.0</td>\n",
              "    </tr>\n",
              "    <tr>\n",
              "      <th>6</th>\n",
              "      <td>CHEMBL3753028</td>\n",
              "      <td>COc1nc2ccccc2cc1C(c1cc2ccccc2nc1OC)C(O)(CCN(C)...</td>\n",
              "      <td>30.0</td>\n",
              "    </tr>\n",
              "    <tr>\n",
              "      <th>7</th>\n",
              "      <td>CHEMBL3754231</td>\n",
              "      <td>COc1nc2ccccc2cc1C(c1cc2ccccc2nc1OC)C(O)(CCN(C)...</td>\n",
              "      <td>10.0</td>\n",
              "    </tr>\n",
              "    <tr>\n",
              "      <th>8</th>\n",
              "      <td>CHEMBL3754673</td>\n",
              "      <td>COc1nc2ccccc2cc1C(c1cc2ccccc2nc1OC)C(O)(CCN(C)...</td>\n",
              "      <td>1.0</td>\n",
              "    </tr>\n",
              "    <tr>\n",
              "      <th>9</th>\n",
              "      <td>CHEMBL3753969</td>\n",
              "      <td>CN(C)CCC(O)(c1cccc(Br)c1)C1c2cc3ccccc3nc2OCC/C...</td>\n",
              "      <td>10.0</td>\n",
              "    </tr>\n",
              "    <tr>\n",
              "      <th>10</th>\n",
              "      <td>CHEMBL3402635</td>\n",
              "      <td>CCN(CC)Cc1cc(N(c2cc(C)nc3cc(Cl)ccc23)S(=O)(=O)...</td>\n",
              "      <td>360.0</td>\n",
              "    </tr>\n",
              "    <tr>\n",
              "      <th>11</th>\n",
              "      <td>CHEMBL3402627</td>\n",
              "      <td>CCN(CC)Cc1cc(N(c2cc(C)nc3cc(Cl)ccc23)S(=O)(=O)...</td>\n",
              "      <td>360.0</td>\n",
              "    </tr>\n",
              "    <tr>\n",
              "      <th>12</th>\n",
              "      <td>CHEMBL3402631</td>\n",
              "      <td>CCN(CC)Cc1cc(N(c2cc(C)nc3cc(Cl)ccc23)S(=O)(=O)...</td>\n",
              "      <td>360.0</td>\n",
              "    </tr>\n",
              "    <tr>\n",
              "      <th>13</th>\n",
              "      <td>CHEMBL3400982</td>\n",
              "      <td>CCN(CC)Cc1cc(N(c2cc(C)nc3cc(Cl)ccc23)S(=O)(=O)...</td>\n",
              "      <td>360.0</td>\n",
              "    </tr>\n",
              "    <tr>\n",
              "      <th>14</th>\n",
              "      <td>CHEMBL3402630</td>\n",
              "      <td>CCN(CC)Cc1cc(N(c2cc(C)nc3cc(Cl)ccc23)S(=O)(=O)...</td>\n",
              "      <td>360.0</td>\n",
              "    </tr>\n",
              "    <tr>\n",
              "      <th>15</th>\n",
              "      <td>CHEMBL3402629</td>\n",
              "      <td>CCN(CC)Cc1cc(N(c2cc(C)nc3cc(Cl)ccc23)S(=O)(=O)...</td>\n",
              "      <td>360.0</td>\n",
              "    </tr>\n",
              "  </tbody>\n",
              "</table>\n",
              "</div>"
            ],
            "text/plain": [
              "   molecule_chembl_id  ... standard_value\n",
              "0       CHEMBL3752792  ...           70.0\n",
              "1       CHEMBL3751877  ...           50.0\n",
              "2       CHEMBL3754648  ...           40.0\n",
              "3       CHEMBL3752547  ...           30.0\n",
              "4       CHEMBL3753673  ...          280.0\n",
              "5       CHEMBL3751865  ...           80.0\n",
              "6       CHEMBL3753028  ...           30.0\n",
              "7       CHEMBL3754231  ...           10.0\n",
              "8       CHEMBL3754673  ...            1.0\n",
              "9       CHEMBL3753969  ...           10.0\n",
              "10      CHEMBL3402635  ...          360.0\n",
              "11      CHEMBL3402627  ...          360.0\n",
              "12      CHEMBL3402631  ...          360.0\n",
              "13      CHEMBL3400982  ...          360.0\n",
              "14      CHEMBL3402630  ...          360.0\n",
              "15      CHEMBL3402629  ...          360.0\n",
              "\n",
              "[16 rows x 3 columns]"
            ]
          },
          "metadata": {},
          "execution_count": 48
        }
      ]
    },
    {
      "cell_type": "code",
      "metadata": {
        "id": "d8nV77oWdbq1",
        "outputId": "cdc78da7-2574-46f6-d9b6-634b9c2ee51a",
        "colab": {
          "base_uri": "https://localhost:8080/",
          "height": 551
        }
      },
      "source": [
        "pd.concat([df3,pd.Series(bioactivity_class)], axis=1)"
      ],
      "execution_count": 50,
      "outputs": [
        {
          "output_type": "execute_result",
          "data": {
            "text/html": [
              "<div>\n",
              "<style scoped>\n",
              "    .dataframe tbody tr th:only-of-type {\n",
              "        vertical-align: middle;\n",
              "    }\n",
              "\n",
              "    .dataframe tbody tr th {\n",
              "        vertical-align: top;\n",
              "    }\n",
              "\n",
              "    .dataframe thead th {\n",
              "        text-align: right;\n",
              "    }\n",
              "</style>\n",
              "<table border=\"1\" class=\"dataframe\">\n",
              "  <thead>\n",
              "    <tr style=\"text-align: right;\">\n",
              "      <th></th>\n",
              "      <th>molecule_chembl_id</th>\n",
              "      <th>canonical_smiles</th>\n",
              "      <th>standard_value</th>\n",
              "      <th>0</th>\n",
              "    </tr>\n",
              "  </thead>\n",
              "  <tbody>\n",
              "    <tr>\n",
              "      <th>0</th>\n",
              "      <td>CHEMBL3752792</td>\n",
              "      <td>COc1nc2ccccc2cc1C(c1cc2ccccc2nc1OC)C(O)(CCN(C)...</td>\n",
              "      <td>70.0</td>\n",
              "      <td>active</td>\n",
              "    </tr>\n",
              "    <tr>\n",
              "      <th>1</th>\n",
              "      <td>CHEMBL3751877</td>\n",
              "      <td>COc1nc2ccccc2cc1C(c1cc2ccccc2nc1OC)C(O)(CCN(C)...</td>\n",
              "      <td>50.0</td>\n",
              "      <td>active</td>\n",
              "    </tr>\n",
              "    <tr>\n",
              "      <th>2</th>\n",
              "      <td>CHEMBL3754648</td>\n",
              "      <td>C=CCOc1nc2ccccc2cc1C(c1cc2ccccc2nc1OCC=C)C(O)(...</td>\n",
              "      <td>40.0</td>\n",
              "      <td>active</td>\n",
              "    </tr>\n",
              "    <tr>\n",
              "      <th>3</th>\n",
              "      <td>CHEMBL3752547</td>\n",
              "      <td>C=CCOc1nc2ccccc2cc1C(c1cc2ccccc2nc1OCC=C)C(O)(...</td>\n",
              "      <td>30.0</td>\n",
              "      <td>active</td>\n",
              "    </tr>\n",
              "    <tr>\n",
              "      <th>4</th>\n",
              "      <td>CHEMBL3753673</td>\n",
              "      <td>C=CCOc1nc2ccccc2cc1C(c1cc2ccccc2nc1OCC=C)C(O)(...</td>\n",
              "      <td>280.0</td>\n",
              "      <td>active</td>\n",
              "    </tr>\n",
              "    <tr>\n",
              "      <th>5</th>\n",
              "      <td>CHEMBL3751865</td>\n",
              "      <td>C=CCCOc1nc2ccccc2cc1C(c1cc2ccccc2nc1OCCC=C)C(O...</td>\n",
              "      <td>80.0</td>\n",
              "      <td>active</td>\n",
              "    </tr>\n",
              "    <tr>\n",
              "      <th>6</th>\n",
              "      <td>CHEMBL3753028</td>\n",
              "      <td>COc1nc2ccccc2cc1C(c1cc2ccccc2nc1OC)C(O)(CCN(C)...</td>\n",
              "      <td>30.0</td>\n",
              "      <td>active</td>\n",
              "    </tr>\n",
              "    <tr>\n",
              "      <th>7</th>\n",
              "      <td>CHEMBL3754231</td>\n",
              "      <td>COc1nc2ccccc2cc1C(c1cc2ccccc2nc1OC)C(O)(CCN(C)...</td>\n",
              "      <td>10.0</td>\n",
              "      <td>active</td>\n",
              "    </tr>\n",
              "    <tr>\n",
              "      <th>8</th>\n",
              "      <td>CHEMBL3754673</td>\n",
              "      <td>COc1nc2ccccc2cc1C(c1cc2ccccc2nc1OC)C(O)(CCN(C)...</td>\n",
              "      <td>1.0</td>\n",
              "      <td>active</td>\n",
              "    </tr>\n",
              "    <tr>\n",
              "      <th>9</th>\n",
              "      <td>CHEMBL3753969</td>\n",
              "      <td>CN(C)CCC(O)(c1cccc(Br)c1)C1c2cc3ccccc3nc2OCC/C...</td>\n",
              "      <td>10.0</td>\n",
              "      <td>active</td>\n",
              "    </tr>\n",
              "    <tr>\n",
              "      <th>10</th>\n",
              "      <td>CHEMBL3402635</td>\n",
              "      <td>CCN(CC)Cc1cc(N(c2cc(C)nc3cc(Cl)ccc23)S(=O)(=O)...</td>\n",
              "      <td>360.0</td>\n",
              "      <td>active</td>\n",
              "    </tr>\n",
              "    <tr>\n",
              "      <th>11</th>\n",
              "      <td>CHEMBL3402627</td>\n",
              "      <td>CCN(CC)Cc1cc(N(c2cc(C)nc3cc(Cl)ccc23)S(=O)(=O)...</td>\n",
              "      <td>360.0</td>\n",
              "      <td>active</td>\n",
              "    </tr>\n",
              "    <tr>\n",
              "      <th>12</th>\n",
              "      <td>CHEMBL3402631</td>\n",
              "      <td>CCN(CC)Cc1cc(N(c2cc(C)nc3cc(Cl)ccc23)S(=O)(=O)...</td>\n",
              "      <td>360.0</td>\n",
              "      <td>active</td>\n",
              "    </tr>\n",
              "    <tr>\n",
              "      <th>13</th>\n",
              "      <td>CHEMBL3400982</td>\n",
              "      <td>CCN(CC)Cc1cc(N(c2cc(C)nc3cc(Cl)ccc23)S(=O)(=O)...</td>\n",
              "      <td>360.0</td>\n",
              "      <td>active</td>\n",
              "    </tr>\n",
              "    <tr>\n",
              "      <th>14</th>\n",
              "      <td>CHEMBL3402630</td>\n",
              "      <td>CCN(CC)Cc1cc(N(c2cc(C)nc3cc(Cl)ccc23)S(=O)(=O)...</td>\n",
              "      <td>360.0</td>\n",
              "      <td>active</td>\n",
              "    </tr>\n",
              "    <tr>\n",
              "      <th>15</th>\n",
              "      <td>CHEMBL3402629</td>\n",
              "      <td>CCN(CC)Cc1cc(N(c2cc(C)nc3cc(Cl)ccc23)S(=O)(=O)...</td>\n",
              "      <td>360.0</td>\n",
              "      <td>active</td>\n",
              "    </tr>\n",
              "  </tbody>\n",
              "</table>\n",
              "</div>"
            ],
            "text/plain": [
              "   molecule_chembl_id  ...       0\n",
              "0       CHEMBL3752792  ...  active\n",
              "1       CHEMBL3751877  ...  active\n",
              "2       CHEMBL3754648  ...  active\n",
              "3       CHEMBL3752547  ...  active\n",
              "4       CHEMBL3753673  ...  active\n",
              "5       CHEMBL3751865  ...  active\n",
              "6       CHEMBL3753028  ...  active\n",
              "7       CHEMBL3754231  ...  active\n",
              "8       CHEMBL3754673  ...  active\n",
              "9       CHEMBL3753969  ...  active\n",
              "10      CHEMBL3402635  ...  active\n",
              "11      CHEMBL3402627  ...  active\n",
              "12      CHEMBL3402631  ...  active\n",
              "13      CHEMBL3400982  ...  active\n",
              "14      CHEMBL3402630  ...  active\n",
              "15      CHEMBL3402629  ...  active\n",
              "\n",
              "[16 rows x 4 columns]"
            ]
          },
          "metadata": {},
          "execution_count": 50
        }
      ]
    },
    {
      "cell_type": "markdown",
      "metadata": {
        "id": "9tlgyexWh7YJ"
      },
      "source": [
        "Saves dataframe to CSV file"
      ]
    },
    {
      "cell_type": "code",
      "metadata": {
        "id": "nSNia7suXstR"
      },
      "source": [
        "df3.to_csv('bioactivity_preprocessed_data.csv', index=False)"
      ],
      "execution_count": 51,
      "outputs": []
    },
    {
      "cell_type": "code",
      "metadata": {
        "id": "UuZf5-MEd-H5",
        "outputId": "1b3ecf28-d93f-4618-e7a7-57d34076631c",
        "colab": {
          "base_uri": "https://localhost:8080/"
        }
      },
      "source": [
        "! ls -l"
      ],
      "execution_count": 52,
      "outputs": [
        {
          "output_type": "stream",
          "name": "stdout",
          "text": [
            "total 24\n",
            "-rw-r--r-- 1 root root 8722 Dec 13 07:30 bioactivity_data.csv\n",
            "-rw-r--r-- 1 root root 1405 Dec 13 08:13 bioactivity_preprocessed_data.csv\n",
            "drwx------ 5 root root 4096 Dec 13 07:32 gdrive\n",
            "drwxr-xr-x 1 root root 4096 Dec  3 14:33 sample_data\n"
          ]
        }
      ]
    },
    {
      "cell_type": "markdown",
      "metadata": {
        "id": "_C7rqJKTePhV"
      },
      "source": [
        "Let's copy to the Google Drive"
      ]
    },
    {
      "cell_type": "code",
      "metadata": {
        "id": "ZfyvJcENeHDB"
      },
      "source": [
        "! cp bioactivity_preprocessed_data.csv \"/content/gdrive/My Drive/Colab Notebooks/data_my\""
      ],
      "execution_count": 53,
      "outputs": []
    },
    {
      "cell_type": "code",
      "metadata": {
        "id": "7PU7yU9leLV5",
        "outputId": "cfc876d1-ded4-40ab-cf5d-f512d2bc3b51",
        "colab": {
          "base_uri": "https://localhost:8080/"
        }
      },
      "source": [
        "! ls \"/content/gdrive/My Drive/Colab Notebooks/data_my\""
      ],
      "execution_count": 57,
      "outputs": [
        {
          "output_type": "stream",
          "name": "stdout",
          "text": [
            "bioactivity_data.csv  bioactivity_preprocessed_data.csv\n"
          ]
        }
      ]
    },
    {
      "cell_type": "markdown",
      "metadata": {
        "id": "ZywB5K_Dlawb"
      },
      "source": [
        "---"
      ]
    }
  ]
}